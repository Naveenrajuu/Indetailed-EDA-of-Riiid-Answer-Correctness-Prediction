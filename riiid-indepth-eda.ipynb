{
 "cells": [
  {
   "cell_type": "markdown",
   "metadata": {},
   "source": [
    "# Riiid Answer Correctness Prediction\n",
    "\n",
    "**About Problem Statement:**\n",
    "\n",
    "Tailoring education to a student's ability level is one of the many valuable things an AI tutor can do.In this competetion we had provided with the some sorts of information a complete education app would have: that student's historic performance, the performance of other students on the same question, metadata about the question itself, and more.So, based on this history if create a ML model to predict how students will perform on future interactions,then it will bridge the gap between the student performance and his learning skills.It will help tackle global challenges in education. If successful, it’s possible that any student with an Internet connection can enjoy the benefits of a personalized learning experience, regardless of where they live.\n",
    "\n",
    "**About the data**:\n",
    "\n",
    "Riiid Labs, an AI solutions provider delivering creative disruption to the education market, empowers global education players to rethink traditional ways of learning leveraging AI. With a strong belief in equal opportunity in education, Riiid launched an AI tutor based on deep-learning algorithms in 2017 that attracted more than one million South Korean students.This year, the company released EdNet, the world’s largest open database for AI education containing more than 100 million student interactions.So,all we need to do is to pair your machine learning skills using Riiid’s EdNet data. \n",
    "\n",
    "**Objective**:\n",
    "\n",
    "Tailoring education to a student's ability level is one of the many valuable things an AI tutor can do.So,In this competition,challenge is to create algorithms for \"Knowledge Tracing,\" the modeling of student knowledge over time \n",
    "**i.e you will predict whether students are able to answer their next questions correctly**\n",
    "\n"
   ]
  },
  {
   "cell_type": "code",
   "execution_count": 1,
   "metadata": {
    "_cell_guid": "b1076dfc-b9ad-4769-8c92-a6c4dae69d19",
    "_uuid": "8f2839f25d086af736a60e9eeb907d3b93b6e0e5",
    "execution": {
     "iopub.execute_input": "2022-03-04T12:40:38.287359Z",
     "iopub.status.busy": "2022-03-04T12:40:38.285586Z",
     "iopub.status.idle": "2022-03-04T12:40:38.318986Z",
     "shell.execute_reply": "2022-03-04T12:40:38.319565Z",
     "shell.execute_reply.started": "2022-03-04T10:58:12.434778Z"
    },
    "papermill": {
     "duration": 0.125381,
     "end_time": "2022-03-04T12:40:38.319870",
     "exception": false,
     "start_time": "2022-03-04T12:40:38.194489",
     "status": "completed"
    },
    "tags": []
   },
   "outputs": [
    {
     "name": "stdout",
     "output_type": "stream",
     "text": [
      "/kaggle/input/riiid-test-answer-prediction/example_sample_submission.csv\n",
      "/kaggle/input/riiid-test-answer-prediction/example_test.csv\n",
      "/kaggle/input/riiid-test-answer-prediction/questions.csv\n",
      "/kaggle/input/riiid-test-answer-prediction/train.csv\n",
      "/kaggle/input/riiid-test-answer-prediction/lectures.csv\n",
      "/kaggle/input/riiid-test-answer-prediction/riiideducation/competition.cpython-37m-x86_64-linux-gnu.so\n",
      "/kaggle/input/riiid-test-answer-prediction/riiideducation/__init__.py\n",
      "/kaggle/input/riiid-reduced-dataset/reduced.pkl.gzip\n",
      "/kaggle/input/riiid-reduced-dataset/__notebook_source__.ipynb\n"
     ]
    }
   ],
   "source": [
    "# This Python 3 environment comes with many helpful analytics libraries installed\n",
    "# It is defined by the kaggle/python Docker image: https://github.com/kaggle/docker-python\n",
    "# For example, here's several helpful packages to load\n",
    "\n",
    "import numpy as np # linear algebra\n",
    "import pandas as pd # data processing, CSV file I/O (e.g. pd.read_csv)\n",
    "\n",
    "# Input data files are available in the read-only \"../input/\" directory\n",
    "# For example, running this (by clicking run or pressing Shift+Enter) will list all files under the input directory\n",
    "\n",
    "import os\n",
    "for dirname, _, filenames in os.walk('/kaggle/input'):\n",
    "    for filename in filenames:\n",
    "        print(os.path.join(dirname, filename))\n",
    "\n",
    "# You can write up to 20GB to the current directory (/kaggle/working/) that gets preserved as output when you create a version using \"Save & Run All\" \n",
    "# You can also write temporary files to /kaggle/temp/, but they won't be saved outside of the current session"
   ]
  },
  {
   "cell_type": "markdown",
   "metadata": {
    "papermill": {
     "duration": 0.085086,
     "end_time": "2022-03-04T12:40:38.491203",
     "exception": false,
     "start_time": "2022-03-04T12:40:38.406117",
     "status": "completed"
    },
    "tags": []
   },
   "source": [
    "****This notebook contains EDA of train data.Here,I done some analysis on each features to understand the distribution of data.I had created some features like percentage,minutes in order to get understand the performace of each user and also difficulty level of content.Up to my knowledge I tried to explore more ways to analyse the feature to get clear picture of dataset**\n",
    " \n",
    "**As the datset is too large,so I had reduced the datset by changing the datatype of feature based on its range and created a dataset which i used here.******"
   ]
  },
  {
   "cell_type": "code",
   "execution_count": 2,
   "metadata": {
    "execution": {
     "iopub.execute_input": "2022-03-04T12:40:38.666217Z",
     "iopub.status.busy": "2022-03-04T12:40:38.664748Z",
     "iopub.status.idle": "2022-03-04T12:40:38.669226Z",
     "shell.execute_reply": "2022-03-04T12:40:38.669768Z",
     "shell.execute_reply.started": "2022-03-04T12:38:28.189266Z"
    },
    "papermill": {
     "duration": 0.092995,
     "end_time": "2022-03-04T12:40:38.669931",
     "exception": false,
     "start_time": "2022-03-04T12:40:38.576936",
     "status": "completed"
    },
    "tags": []
   },
   "outputs": [],
   "source": [
    "import warnings \n",
    "warnings.filterwarnings('ignore')"
   ]
  },
  {
   "cell_type": "code",
   "execution_count": 3,
   "metadata": {
    "execution": {
     "iopub.execute_input": "2022-03-04T12:40:38.844806Z",
     "iopub.status.busy": "2022-03-04T12:40:38.843826Z",
     "iopub.status.idle": "2022-03-04T12:40:39.917771Z",
     "shell.execute_reply": "2022-03-04T12:40:39.917138Z",
     "shell.execute_reply.started": "2022-03-04T10:59:20.371074Z"
    },
    "papermill": {
     "duration": 1.163068,
     "end_time": "2022-03-04T12:40:39.917917",
     "exception": false,
     "start_time": "2022-03-04T12:40:38.754849",
     "status": "completed"
    },
    "tags": []
   },
   "outputs": [],
   "source": [
    "import numpy as np # linear algebra\n",
    "import pandas as pd # data processing, CSV file I/O (e.g. pd.read_csv)\n",
    "import seaborn as sns\n",
    "import matplotlib.pyplot as plt"
   ]
  },
  {
   "cell_type": "code",
   "execution_count": null,
   "metadata": {
    "papermill": {
     "duration": 0.08728,
     "end_time": "2022-03-04T12:40:40.092627",
     "exception": false,
     "start_time": "2022-03-04T12:40:40.005347",
     "status": "completed"
    },
    "tags": []
   },
   "outputs": [],
   "source": []
  },
  {
   "cell_type": "markdown",
   "metadata": {},
   "source": [
    "## Loading the data\n",
    "\n",
    "orginal dataset: https://www.kaggle.com/c/riiid-test-answer-prediction/data\n",
    "Actually dataset is of 3.5gb,so I had reduced the dataset by converting the data type of each feature on possible range and had uploaded the data in kaggle\n",
    "\n",
    "reduced dataset(myown): https://www.kaggle.com/printnaveen/riiid-reduced-dataset"
   ]
  },
  {
   "cell_type": "code",
   "execution_count": 4,
   "metadata": {
    "execution": {
     "iopub.execute_input": "2022-03-04T12:40:40.271436Z",
     "iopub.status.busy": "2022-03-04T12:40:40.270513Z",
     "iopub.status.idle": "2022-03-04T12:41:13.428089Z",
     "shell.execute_reply": "2022-03-04T12:41:13.428589Z",
     "shell.execute_reply.started": "2022-03-04T10:59:43.019646Z"
    },
    "papermill": {
     "duration": 33.24795,
     "end_time": "2022-03-04T12:41:13.428778",
     "exception": false,
     "start_time": "2022-03-04T12:40:40.180828",
     "status": "completed"
    },
    "tags": []
   },
   "outputs": [
    {
     "data": {
      "text/html": [
       "<div>\n",
       "<style scoped>\n",
       "    .dataframe tbody tr th:only-of-type {\n",
       "        vertical-align: middle;\n",
       "    }\n",
       "\n",
       "    .dataframe tbody tr th {\n",
       "        vertical-align: top;\n",
       "    }\n",
       "\n",
       "    .dataframe thead th {\n",
       "        text-align: right;\n",
       "    }\n",
       "</style>\n",
       "<table border=\"1\" class=\"dataframe\">\n",
       "  <thead>\n",
       "    <tr style=\"text-align: right;\">\n",
       "      <th></th>\n",
       "      <th>row_id</th>\n",
       "      <th>timestamp</th>\n",
       "      <th>user_id</th>\n",
       "      <th>content_id</th>\n",
       "      <th>content_type_id</th>\n",
       "      <th>task_container_id</th>\n",
       "      <th>user_answer</th>\n",
       "      <th>answered_correctly</th>\n",
       "      <th>prior_question_elapsed_time</th>\n",
       "      <th>prior_question_had_explanation</th>\n",
       "    </tr>\n",
       "  </thead>\n",
       "  <tbody>\n",
       "    <tr>\n",
       "      <th>0</th>\n",
       "      <td>0</td>\n",
       "      <td>0</td>\n",
       "      <td>115</td>\n",
       "      <td>5692</td>\n",
       "      <td>0</td>\n",
       "      <td>1</td>\n",
       "      <td>3</td>\n",
       "      <td>1</td>\n",
       "      <td>NaN</td>\n",
       "      <td>&lt;NA&gt;</td>\n",
       "    </tr>\n",
       "    <tr>\n",
       "      <th>1</th>\n",
       "      <td>1</td>\n",
       "      <td>56943</td>\n",
       "      <td>115</td>\n",
       "      <td>5716</td>\n",
       "      <td>0</td>\n",
       "      <td>2</td>\n",
       "      <td>2</td>\n",
       "      <td>1</td>\n",
       "      <td>37000.0</td>\n",
       "      <td>False</td>\n",
       "    </tr>\n",
       "    <tr>\n",
       "      <th>2</th>\n",
       "      <td>2</td>\n",
       "      <td>118363</td>\n",
       "      <td>115</td>\n",
       "      <td>128</td>\n",
       "      <td>0</td>\n",
       "      <td>0</td>\n",
       "      <td>0</td>\n",
       "      <td>1</td>\n",
       "      <td>55000.0</td>\n",
       "      <td>False</td>\n",
       "    </tr>\n",
       "    <tr>\n",
       "      <th>3</th>\n",
       "      <td>3</td>\n",
       "      <td>131167</td>\n",
       "      <td>115</td>\n",
       "      <td>7860</td>\n",
       "      <td>0</td>\n",
       "      <td>3</td>\n",
       "      <td>0</td>\n",
       "      <td>1</td>\n",
       "      <td>19000.0</td>\n",
       "      <td>False</td>\n",
       "    </tr>\n",
       "    <tr>\n",
       "      <th>4</th>\n",
       "      <td>4</td>\n",
       "      <td>137965</td>\n",
       "      <td>115</td>\n",
       "      <td>7922</td>\n",
       "      <td>0</td>\n",
       "      <td>4</td>\n",
       "      <td>1</td>\n",
       "      <td>1</td>\n",
       "      <td>11000.0</td>\n",
       "      <td>False</td>\n",
       "    </tr>\n",
       "  </tbody>\n",
       "</table>\n",
       "</div>"
      ],
      "text/plain": [
       "   row_id  timestamp  user_id  content_id  content_type_id  task_container_id  \\\n",
       "0       0          0      115        5692                0                  1   \n",
       "1       1      56943      115        5716                0                  2   \n",
       "2       2     118363      115         128                0                  0   \n",
       "3       3     131167      115        7860                0                  3   \n",
       "4       4     137965      115        7922                0                  4   \n",
       "\n",
       "   user_answer  answered_correctly  prior_question_elapsed_time  \\\n",
       "0            3                   1                          NaN   \n",
       "1            2                   1                      37000.0   \n",
       "2            0                   1                      55000.0   \n",
       "3            0                   1                      19000.0   \n",
       "4            1                   1                      11000.0   \n",
       "\n",
       "   prior_question_had_explanation  \n",
       "0                            <NA>  \n",
       "1                           False  \n",
       "2                           False  \n",
       "3                           False  \n",
       "4                           False  "
      ]
     },
     "execution_count": 4,
     "metadata": {},
     "output_type": "execute_result"
    }
   ],
   "source": [
    "data=pd.read_pickle('../input/riiid-reduced-dataset/reduced.pkl.gzip')\n",
    "data.head()"
   ]
  },
  {
   "cell_type": "code",
   "execution_count": 5,
   "metadata": {
    "execution": {
     "iopub.execute_input": "2022-03-04T12:41:13.605884Z",
     "iopub.status.busy": "2022-03-04T12:41:13.605117Z",
     "iopub.status.idle": "2022-03-04T12:41:13.609879Z",
     "shell.execute_reply": "2022-03-04T12:41:13.609300Z",
     "shell.execute_reply.started": "2022-03-04T11:01:11.329075Z"
    },
    "papermill": {
     "duration": 0.09546,
     "end_time": "2022-03-04T12:41:13.610026",
     "exception": false,
     "start_time": "2022-03-04T12:41:13.514566",
     "status": "completed"
    },
    "tags": []
   },
   "outputs": [
    {
     "data": {
      "text/plain": [
       "(101230332, 10)"
      ]
     },
     "execution_count": 5,
     "metadata": {},
     "output_type": "execute_result"
    }
   ],
   "source": [
    "data.shape"
   ]
  },
  {
   "cell_type": "markdown",
   "metadata": {
    "papermill": {
     "duration": 0.087359,
     "end_time": "2022-03-04T12:41:13.784243",
     "exception": false,
     "start_time": "2022-03-04T12:41:13.696884",
     "status": "completed"
    },
    "tags": []
   },
   "source": [
    " ## Some basic eda on features"
   ]
  },
  {
   "cell_type": "code",
   "execution_count": 6,
   "metadata": {
    "execution": {
     "iopub.execute_input": "2022-03-04T12:41:13.964872Z",
     "iopub.status.busy": "2022-03-04T12:41:13.962914Z",
     "iopub.status.idle": "2022-03-04T12:41:34.025539Z",
     "shell.execute_reply": "2022-03-04T12:41:34.024988Z",
     "shell.execute_reply.started": "2022-03-04T05:10:32.588260Z"
    },
    "papermill": {
     "duration": 20.152979,
     "end_time": "2022-03-04T12:41:34.025693",
     "exception": false,
     "start_time": "2022-03-04T12:41:13.872714",
     "status": "completed"
    },
    "tags": []
   },
   "outputs": [
    {
     "data": {
      "text/plain": [
       "<AxesSubplot:xlabel='content_type_id', ylabel='count'>"
      ]
     },
     "execution_count": 6,
     "metadata": {},
     "output_type": "execute_result"
    },
    {
     "data": {
      "image/png": "[encoded data removed]",
      "text/plain": [
       "<Figure size 432x288 with 1 Axes>"
      ]
     },
     "metadata": {
      "needs_background": "light"
     },
     "output_type": "display_data"
    }
   ],
   "source": [
    "sns.countplot(x='content_type_id',hue='answered_correctly',data=data)"
   ]
  },
  {
   "cell_type": "code",
   "execution_count": 7,
   "metadata": {
    "execution": {
     "iopub.execute_input": "2022-03-04T12:41:34.206604Z",
     "iopub.status.busy": "2022-03-04T12:41:34.205063Z",
     "iopub.status.idle": "2022-03-04T12:41:42.883525Z",
     "shell.execute_reply": "2022-03-04T12:41:42.884019Z",
     "shell.execute_reply.started": "2022-03-04T05:11:52.149788Z"
    },
    "papermill": {
     "duration": 8.768956,
     "end_time": "2022-03-04T12:41:42.884202",
     "exception": false,
     "start_time": "2022-03-04T12:41:34.115246",
     "status": "completed"
    },
    "tags": []
   },
   "outputs": [
    {
     "data": {
      "text/plain": [
       "<AxesSubplot:xlabel='answered_correctly', ylabel='count'>"
      ]
     },
     "execution_count": 7,
     "metadata": {},
     "output_type": "execute_result"
    },
    {
     "data": {
      "image/png": "[encoded data removed]",
      "text/plain": [
       "<Figure size 432x288 with 1 Axes>"
      ]
     },
     "metadata": {
      "needs_background": "light"
     },
     "output_type": "display_data"
    }
   ],
   "source": [
    "sns.countplot(x='answered_correctly',data=data)"
   ]
  },
  {
   "cell_type": "code",
   "execution_count": 8,
   "metadata": {
    "execution": {
     "iopub.execute_input": "2022-03-04T12:41:43.069689Z",
     "iopub.status.busy": "2022-03-04T12:41:43.067402Z",
     "iopub.status.idle": "2022-03-04T12:41:51.979118Z",
     "shell.execute_reply": "2022-03-04T12:41:51.980014Z",
     "shell.execute_reply.started": "2022-03-04T05:13:17.616913Z"
    },
    "papermill": {
     "duration": 9.006177,
     "end_time": "2022-03-04T12:41:51.980289",
     "exception": false,
     "start_time": "2022-03-04T12:41:42.974112",
     "status": "completed"
    },
    "tags": []
   },
   "outputs": [
    {
     "data": {
      "text/plain": [
       "<AxesSubplot:xlabel='user_answer', ylabel='count'>"
      ]
     },
     "execution_count": 8,
     "metadata": {},
     "output_type": "execute_result"
    },
    {
     "data": {
      "image/png": "[encoded data removed]",
      "text/plain": [
       "<Figure size 432x288 with 1 Axes>"
      ]
     },
     "metadata": {
      "needs_background": "light"
     },
     "output_type": "display_data"
    }
   ],
   "source": [
    "sns.countplot(x='user_answer',data=data)"
   ]
  },
  {
   "cell_type": "code",
   "execution_count": 9,
   "metadata": {
    "execution": {
     "iopub.execute_input": "2022-03-04T12:41:52.175723Z",
     "iopub.status.busy": "2022-03-04T12:41:52.175045Z",
     "iopub.status.idle": "2022-03-04T12:42:11.860842Z",
     "shell.execute_reply": "2022-03-04T12:42:11.860310Z",
     "shell.execute_reply.started": "2022-03-04T05:13:27.130608Z"
    },
    "papermill": {
     "duration": 19.780126,
     "end_time": "2022-03-04T12:42:11.860995",
     "exception": false,
     "start_time": "2022-03-04T12:41:52.080869",
     "status": "completed"
    },
    "tags": []
   },
   "outputs": [
    {
     "data": {
      "text/plain": [
       "<AxesSubplot:xlabel='user_answer', ylabel='count'>"
      ]
     },
     "execution_count": 9,
     "metadata": {},
     "output_type": "execute_result"
    },
    {
     "data": {
      "image/png": "[encoded data removed]",
      "text/plain": [
       "<Figure size 432x288 with 1 Axes>"
      ]
     },
     "metadata": {
      "needs_background": "light"
     },
     "output_type": "display_data"
    }
   ],
   "source": [
    "sns.countplot(x='user_answer',hue='answered_correctly',data=data)"
   ]
  },
  {
   "cell_type": "markdown",
   "metadata": {
    "papermill": {
     "duration": 0.091164,
     "end_time": "2022-03-04T12:42:12.044415",
     "exception": false,
     "start_time": "2022-03-04T12:42:11.953251",
     "status": "completed"
    },
    "tags": []
   },
   "source": [
    "**Observation:**\n",
    "\n",
    "1.In given data,there are more content related to questions than lecture\n",
    "\n",
    "2.And there are more users who answered correctly for attempted questions\n",
    "\n"
   ]
  },
  {
   "cell_type": "code",
   "execution_count": 10,
   "metadata": {
    "execution": {
     "iopub.execute_input": "2022-03-04T12:42:12.231742Z",
     "iopub.status.busy": "2022-03-04T12:42:12.231005Z",
     "iopub.status.idle": "2022-03-04T12:42:16.988851Z",
     "shell.execute_reply": "2022-03-04T12:42:16.988315Z",
     "shell.execute_reply.started": "2022-03-04T11:02:41.688222Z"
    },
    "papermill": {
     "duration": 4.851855,
     "end_time": "2022-03-04T12:42:16.989008",
     "exception": false,
     "start_time": "2022-03-04T12:42:12.137153",
     "status": "completed"
    },
    "tags": []
   },
   "outputs": [
    {
     "data": {
      "text/plain": [
       "(99271300, 10)"
      ]
     },
     "execution_count": 10,
     "metadata": {},
     "output_type": "execute_result"
    }
   ],
   "source": [
    "#separating the data of users who attempted only questions\n",
    "new=data[data['content_type_id']==0]\n",
    "new.shape"
   ]
  },
  {
   "cell_type": "code",
   "execution_count": 11,
   "metadata": {
    "execution": {
     "iopub.execute_input": "2022-03-04T12:42:17.208319Z",
     "iopub.status.busy": "2022-03-04T12:42:17.207684Z",
     "iopub.status.idle": "2022-03-04T12:42:25.738078Z",
     "shell.execute_reply": "2022-03-04T12:42:25.738562Z",
     "shell.execute_reply.started": "2022-03-04T11:03:31.191838Z"
    },
    "papermill": {
     "duration": 8.632389,
     "end_time": "2022-03-04T12:42:25.738755",
     "exception": false,
     "start_time": "2022-03-04T12:42:17.106366",
     "status": "completed"
    },
    "tags": []
   },
   "outputs": [
    {
     "data": {
      "text/html": [
       "<div>\n",
       "<style scoped>\n",
       "    .dataframe tbody tr th:only-of-type {\n",
       "        vertical-align: middle;\n",
       "    }\n",
       "\n",
       "    .dataframe tbody tr th {\n",
       "        vertical-align: top;\n",
       "    }\n",
       "\n",
       "    .dataframe thead th {\n",
       "        text-align: right;\n",
       "    }\n",
       "</style>\n",
       "<table border=\"1\" class=\"dataframe\">\n",
       "  <thead>\n",
       "    <tr style=\"text-align: right;\">\n",
       "      <th></th>\n",
       "      <th>user_id</th>\n",
       "      <th>answered_correctly</th>\n",
       "      <th>prior_question_elapsed_time</th>\n",
       "    </tr>\n",
       "  </thead>\n",
       "  <tbody>\n",
       "    <tr>\n",
       "      <th>0</th>\n",
       "      <td>115</td>\n",
       "      <td>32.0</td>\n",
       "      <td>896999.0</td>\n",
       "    </tr>\n",
       "    <tr>\n",
       "      <th>1</th>\n",
       "      <td>124</td>\n",
       "      <td>7.0</td>\n",
       "      <td>544997.0</td>\n",
       "    </tr>\n",
       "    <tr>\n",
       "      <th>2</th>\n",
       "      <td>2746</td>\n",
       "      <td>11.0</td>\n",
       "      <td>325000.0</td>\n",
       "    </tr>\n",
       "    <tr>\n",
       "      <th>3</th>\n",
       "      <td>5382</td>\n",
       "      <td>84.0</td>\n",
       "      <td>4470000.0</td>\n",
       "    </tr>\n",
       "    <tr>\n",
       "      <th>4</th>\n",
       "      <td>8623</td>\n",
       "      <td>70.0</td>\n",
       "      <td>2819600.0</td>\n",
       "    </tr>\n",
       "  </tbody>\n",
       "</table>\n",
       "</div>"
      ],
      "text/plain": [
       "   user_id  answered_correctly  prior_question_elapsed_time\n",
       "0      115                32.0                     896999.0\n",
       "1      124                 7.0                     544997.0\n",
       "2     2746                11.0                     325000.0\n",
       "3     5382                84.0                    4470000.0\n",
       "4     8623                70.0                    2819600.0"
      ]
     },
     "execution_count": 11,
     "metadata": {},
     "output_type": "execute_result"
    }
   ],
   "source": [
    "#grouuping the user_od and checking how many of them given correct answer (by using sum)\n",
    "#and also counting no of questions they attempted (by using count)\n",
    "\n",
    "g=new[['user_id','answered_correctly','prior_question_elapsed_time']].groupby('user_id').sum().reset_index()\n",
    "g_=new[['user_id','answered_correctly']].groupby('user_id').count().reset_index()\n",
    "\n",
    "#g.sort_values('answered_correctly',inplace=True,ascending=False)\n",
    "g.head()"
   ]
  },
  {
   "cell_type": "code",
   "execution_count": 12,
   "metadata": {
    "execution": {
     "iopub.execute_input": "2022-03-04T12:42:25.927691Z",
     "iopub.status.busy": "2022-03-04T12:42:25.927048Z",
     "iopub.status.idle": "2022-03-04T12:42:26.002777Z",
     "shell.execute_reply": "2022-03-04T12:42:26.003432Z",
     "shell.execute_reply.started": "2022-03-04T11:05:47.968556Z"
    },
    "papermill": {
     "duration": 0.171632,
     "end_time": "2022-03-04T12:42:26.003595",
     "exception": false,
     "start_time": "2022-03-04T12:42:25.831963",
     "status": "completed"
    },
    "tags": []
   },
   "outputs": [
    {
     "data": {
      "text/html": [
       "<div>\n",
       "<style scoped>\n",
       "    .dataframe tbody tr th:only-of-type {\n",
       "        vertical-align: middle;\n",
       "    }\n",
       "\n",
       "    .dataframe tbody tr th {\n",
       "        vertical-align: top;\n",
       "    }\n",
       "\n",
       "    .dataframe thead th {\n",
       "        text-align: right;\n",
       "    }\n",
       "</style>\n",
       "<table border=\"1\" class=\"dataframe\">\n",
       "  <thead>\n",
       "    <tr style=\"text-align: right;\">\n",
       "      <th></th>\n",
       "      <th>user_id</th>\n",
       "      <th>answered_correctly</th>\n",
       "      <th>prior_question_elapsed_time</th>\n",
       "      <th>total</th>\n",
       "      <th>per</th>\n",
       "    </tr>\n",
       "  </thead>\n",
       "  <tbody>\n",
       "    <tr>\n",
       "      <th>390617</th>\n",
       "      <td>2131395801</td>\n",
       "      <td>2.0</td>\n",
       "      <td>14000.0</td>\n",
       "      <td>2</td>\n",
       "      <td>100.0</td>\n",
       "    </tr>\n",
       "    <tr>\n",
       "      <th>11057</th>\n",
       "      <td>60215278</td>\n",
       "      <td>1.0</td>\n",
       "      <td>0.0</td>\n",
       "      <td>1</td>\n",
       "      <td>100.0</td>\n",
       "    </tr>\n",
       "    <tr>\n",
       "      <th>186326</th>\n",
       "      <td>1019843964</td>\n",
       "      <td>1.0</td>\n",
       "      <td>0.0</td>\n",
       "      <td>1</td>\n",
       "      <td>100.0</td>\n",
       "    </tr>\n",
       "    <tr>\n",
       "      <th>283847</th>\n",
       "      <td>1552058047</td>\n",
       "      <td>30.0</td>\n",
       "      <td>348661.0</td>\n",
       "      <td>30</td>\n",
       "      <td>100.0</td>\n",
       "    </tr>\n",
       "    <tr>\n",
       "      <th>118248</th>\n",
       "      <td>648296210</td>\n",
       "      <td>30.0</td>\n",
       "      <td>440994.0</td>\n",
       "      <td>30</td>\n",
       "      <td>100.0</td>\n",
       "    </tr>\n",
       "  </tbody>\n",
       "</table>\n",
       "</div>"
      ],
      "text/plain": [
       "           user_id  answered_correctly  prior_question_elapsed_time  total  \\\n",
       "390617  2131395801                 2.0                      14000.0      2   \n",
       "11057     60215278                 1.0                          0.0      1   \n",
       "186326  1019843964                 1.0                          0.0      1   \n",
       "283847  1552058047                30.0                     348661.0     30   \n",
       "118248   648296210                30.0                     440994.0     30   \n",
       "\n",
       "          per  \n",
       "390617  100.0  \n",
       "11057   100.0  \n",
       "186326  100.0  \n",
       "283847  100.0  \n",
       "118248  100.0  "
      ]
     },
     "execution_count": 12,
     "metadata": {},
     "output_type": "execute_result"
    }
   ],
   "source": [
    "#now adding count column to main datagrame i.e g \n",
    "#and also finding the succes ratio of each user i.e no of crct answers/total no of question attempted\n",
    "\n",
    "g['total']=g_['answered_correctly']\n",
    "g['per']=np.round((g['answered_correctly']/g['total'])*100)\n",
    "sort=g.sort_values('per',ascending=False)\n",
    "sort.head()"
   ]
  },
  {
   "cell_type": "markdown",
   "metadata": {
    "papermill": {
     "duration": 0.092163,
     "end_time": "2022-03-04T12:42:26.198957",
     "exception": false,
     "start_time": "2022-03-04T12:42:26.106794",
     "status": "completed"
    },
    "tags": []
   },
   "source": [
    "Above dataframe tells the user's no of correct answers to his total attempted question and also the percentage of his performance"
   ]
  },
  {
   "cell_type": "code",
   "execution_count": 13,
   "metadata": {
    "execution": {
     "iopub.execute_input": "2022-03-04T12:42:26.387977Z",
     "iopub.status.busy": "2022-03-04T12:42:26.387020Z",
     "iopub.status.idle": "2022-03-04T12:42:26.397277Z",
     "shell.execute_reply": "2022-03-04T12:42:26.397767Z",
     "shell.execute_reply.started": "2022-03-04T05:35:05.164113Z"
    },
    "papermill": {
     "duration": 0.106266,
     "end_time": "2022-03-04T12:42:26.398124",
     "exception": false,
     "start_time": "2022-03-04T12:42:26.291858",
     "status": "completed"
    },
    "tags": []
   },
   "outputs": [],
   "source": [
    "def percentage_answer(type):\n",
    "    \n",
    "    plt.figure(figsize=(15,5))\n",
    "    plt.xlabel('each users performance on their examination in terms of percentage')\n",
    "    plt.ylabel('no of students')\n",
    "    if type=='desc':\n",
    "        per=g['per'].value_counts().sort_index(ascending=False)\n",
    "        sns.barplot(x=per.index[:25],y=per.values[:25].astype('int'),order=per.index[:25].astype('int'))\n",
    "        plt.title('top percentage of students who perfomed very well in exam')\n",
    "\n",
    "        \n",
    "    elif type=='asc':\n",
    "        per=g['per'].value_counts().sort_index(ascending=True)\n",
    "        sns.barplot(x=per.index[:25],y=per.values[:25].astype('int'),order=per.index[:25].astype('int'))  \n",
    "        plt.title('least percentage of students who performed bad in exam')\n",
    "    elif type=='top':\n",
    "        per=g['per'].value_counts()\n",
    "        sns.barplot(x=per.index[:25],y=per.values[:25].astype('int'),order=per.index[:25].astype('int'))\n",
    "        plt.title('highest percentage of students who answered correctly')\n"
   ]
  },
  {
   "cell_type": "code",
   "execution_count": 14,
   "metadata": {
    "execution": {
     "iopub.execute_input": "2022-03-04T12:42:26.616619Z",
     "iopub.status.busy": "2022-03-04T12:42:26.615629Z",
     "iopub.status.idle": "2022-03-04T12:42:27.802381Z",
     "shell.execute_reply": "2022-03-04T12:42:27.801726Z",
     "shell.execute_reply.started": "2022-03-04T05:36:02.520681Z"
    },
    "papermill": {
     "duration": 1.311705,
     "end_time": "2022-03-04T12:42:27.802525",
     "exception": false,
     "start_time": "2022-03-04T12:42:26.490820",
     "status": "completed"
    },
    "tags": []
   },
   "outputs": [
    {
     "name": "stdout",
     "output_type": "stream",
     "text": [
      "\n"
     ]
    },
    {
     "data": {
      "image/png": "[encoded data removed]",
      "text/plain": [
       "<Figure size 1080x360 with 1 Axes>"
      ]
     },
     "metadata": {
      "needs_background": "light"
     },
     "output_type": "display_data"
    },
    {
     "data": {
      "image/png": "[encoded data removed]",
      "text/plain": [
       "<Figure size 1080x360 with 1 Axes>"
      ]
     },
     "metadata": {
      "needs_background": "light"
     },
     "output_type": "display_data"
    },
    {
     "data": {
      "image/png": "[encoded data removed]",
      "text/plain": [
       "<Figure size 1080x360 with 1 Axes>"
      ]
     },
     "metadata": {
      "needs_background": "light"
     },
     "output_type": "display_data"
    }
   ],
   "source": [
    "percentage_answer('asc')\n",
    "print()\n",
    "percentage_answer('desc')\n",
    "percentage_answer('top')"
   ]
  },
  {
   "cell_type": "markdown",
   "metadata": {
    "papermill": {
     "duration": 0.098079,
     "end_time": "2022-03-04T12:42:27.997896",
     "exception": false,
     "start_time": "2022-03-04T12:42:27.899817",
     "status": "completed"
    },
    "tags": []
   },
   "source": [
    "**Observation:**\n",
    "\n",
    "1.Above plot is about the distribution of students/users falling on each percentage i.e performance\n",
    "\n",
    "2.There are no higher number of users who got 100 percentage in exams ,so only few users falled below 90 percentage in exam\n",
    "\n",
    "3.Coming to poor performance,only few users got very less percentage\n",
    "\n",
    "4.And in whole examination,lot of users got only 50 percent sucess rate and almost lot of users fallen in between 40 to 60 percentage\n"
   ]
  },
  {
   "cell_type": "code",
   "execution_count": 15,
   "metadata": {
    "execution": {
     "iopub.execute_input": "2022-03-04T12:42:28.230099Z",
     "iopub.status.busy": "2022-03-04T12:42:28.229132Z",
     "iopub.status.idle": "2022-03-04T12:42:29.577864Z",
     "shell.execute_reply": "2022-03-04T12:42:29.577157Z",
     "shell.execute_reply.started": "2022-03-04T05:52:11.509604Z"
    },
    "papermill": {
     "duration": 1.460911,
     "end_time": "2022-03-04T12:42:29.578014",
     "exception": false,
     "start_time": "2022-03-04T12:42:28.117103",
     "status": "completed"
    },
    "tags": []
   },
   "outputs": [
    {
     "data": {
      "image/png": "[encoded data removed]",
      "text/plain": [
       "<Figure size 1440x576 with 1 Axes>"
      ]
     },
     "metadata": {
      "needs_background": "light"
     },
     "output_type": "display_data"
    }
   ],
   "source": [
    "#checking the no of users falling in percentage\n",
    "\n",
    "\n",
    "\n",
    "plt.figure(figsize=(20,8))\n",
    "plt.ticklabel_format(style='plain', axis='y')\n",
    "sns.countplot(x='per',data=g,order=g['per'].value_counts().sort_index().index)\n",
    "plt.title('distribution of performace of users in terms of percentage')\n",
    "plt.xticks(rotation=90)\n",
    "plt.show()"
   ]
  },
  {
   "cell_type": "code",
   "execution_count": 16,
   "metadata": {
    "execution": {
     "iopub.execute_input": "2022-03-04T12:42:29.780191Z",
     "iopub.status.busy": "2022-03-04T12:42:29.779113Z",
     "iopub.status.idle": "2022-03-04T12:42:31.570590Z",
     "shell.execute_reply": "2022-03-04T12:42:31.570103Z",
     "shell.execute_reply.started": "2022-03-04T07:38:37.290657Z"
    },
    "papermill": {
     "duration": 1.894967,
     "end_time": "2022-03-04T12:42:31.570753",
     "exception": false,
     "start_time": "2022-03-04T12:42:29.675786",
     "status": "completed"
    },
    "tags": []
   },
   "outputs": [
    {
     "data": {
      "image/png": "[encoded data removed]",
      "text/plain": [
       "<Figure size 720x360 with 1 Axes>"
      ]
     },
     "metadata": {
      "needs_background": "light"
     },
     "output_type": "display_data"
    }
   ],
   "source": [
    "plt.figure(figsize=(10,5))\n",
    "plt.ticklabel_format(style='plain', axis='y')\n",
    "plt.ticklabel_format(style='plain', axis='y')\n",
    "sns.distplot(g['per'].values,color='black',hist=False)\n",
    "plt.xticks(rotation=90)\n",
    "plt.show()"
   ]
  },
  {
   "cell_type": "markdown",
   "metadata": {
    "papermill": {
     "duration": 0.098167,
     "end_time": "2022-03-04T12:42:31.767189",
     "exception": false,
     "start_time": "2022-03-04T12:42:31.669022",
     "status": "completed"
    },
    "tags": []
   },
   "source": [
    "**Obseravtion:**\n",
    "\n",
    "Interestingly,the performace of all users has gaussian distribution i.e lot of users fallen in atmost 40 to 80 percentage\n",
    "and very few users had performed worst and viceversa\n",
    "\n"
   ]
  },
  {
   "cell_type": "code",
   "execution_count": 17,
   "metadata": {
    "execution": {
     "iopub.execute_input": "2022-03-04T12:42:31.977684Z",
     "iopub.status.busy": "2022-03-04T12:42:31.976710Z",
     "iopub.status.idle": "2022-03-04T12:42:33.450234Z",
     "shell.execute_reply": "2022-03-04T12:42:33.450761Z",
     "shell.execute_reply.started": "2022-03-04T05:35:24.201250Z"
    },
    "papermill": {
     "duration": 1.58554,
     "end_time": "2022-03-04T12:42:33.450937",
     "exception": false,
     "start_time": "2022-03-04T12:42:31.865397",
     "status": "completed"
    },
    "tags": []
   },
   "outputs": [
    {
     "data": {
      "text/plain": [
       "Text(0, 0.5, 'no of students')"
      ]
     },
     "execution_count": 17,
     "metadata": {},
     "output_type": "execute_result"
    },
    {
     "data": {
      "image/png": "[encoded data removed]",
      "text/plain": [
       "<Figure size 2520x576 with 1 Axes>"
      ]
     },
     "metadata": {
      "needs_background": "light"
     },
     "output_type": "display_data"
    }
   ],
   "source": [
    "plt.figure(figsize=(35,8))\n",
    "per=g['per'].value_counts()\n",
    "sns.barplot(x=per.index.astype('int'),y=per.values,order=per.index.astype('int'))\n",
    "plt.title('success percentage of students ')\n",
    "plt.xlabel('success percentage i.e correctly answer to total questions attempted')\n",
    "plt.ylabel('no of students')"
   ]
  },
  {
   "cell_type": "markdown",
   "metadata": {
    "papermill": {
     "duration": 0.102645,
     "end_time": "2022-03-04T12:42:33.654880",
     "exception": false,
     "start_time": "2022-03-04T12:42:33.552235",
     "status": "completed"
    },
    "tags": []
   },
   "source": [
    "**Observation:**\n",
    "\n",
    "From this plot,it clear that lot of users got 50 percentage in the exams and very least users got 99 percenatge"
   ]
  },
  {
   "cell_type": "markdown",
   "metadata": {
    "papermill": {
     "duration": 0.099795,
     "end_time": "2022-03-04T12:42:33.856048",
     "exception": false,
     "start_time": "2022-03-04T12:42:33.756253",
     "status": "completed"
    },
    "tags": []
   },
   "source": [
    "## Top 20 students who answered correctly"
   ]
  },
  {
   "cell_type": "code",
   "execution_count": 18,
   "metadata": {
    "execution": {
     "iopub.execute_input": "2022-03-04T12:42:34.065854Z",
     "iopub.status.busy": "2022-03-04T12:42:34.065144Z",
     "iopub.status.idle": "2022-03-04T12:42:34.503113Z",
     "shell.execute_reply": "2022-03-04T12:42:34.503593Z",
     "shell.execute_reply.started": "2022-03-04T05:59:39.746743Z"
    },
    "papermill": {
     "duration": 0.546221,
     "end_time": "2022-03-04T12:42:34.503775",
     "exception": false,
     "start_time": "2022-03-04T12:42:33.957554",
     "status": "completed"
    },
    "tags": []
   },
   "outputs": [
    {
     "data": {
      "image/png": "[encoded data removed]",
      "text/plain": [
       "<Figure size 1080x360 with 1 Axes>"
      ]
     },
     "metadata": {
      "needs_background": "light"
     },
     "output_type": "display_data"
    }
   ],
   "source": [
    "\n",
    "tp_20=g.sort_values('answered_correctly',ascending=False)[:25]\n",
    "\n",
    "plt.figure(figsize=(15,5))\n",
    "sns.barplot(x='user_id',y='answered_correctly',data=tp_20,order=tp_20['user_id'])\n",
    "plt.title('students who given more no of correct answers')\n",
    "plt.xlabel('students')\n",
    "plt.ylabel('no of correct answers')\n",
    "plt.xticks(rotation=90)\n",
    "plt.show()"
   ]
  },
  {
   "cell_type": "markdown",
   "metadata": {
    "papermill": {
     "duration": 0.101702,
     "end_time": "2022-03-04T12:42:34.707322",
     "exception": false,
     "start_time": "2022-03-04T12:42:34.605620",
     "status": "completed"
    },
    "tags": []
   },
   "source": [
    "## Top 20 cotent mostly seen by students"
   ]
  },
  {
   "cell_type": "code",
   "execution_count": 19,
   "metadata": {
    "execution": {
     "iopub.execute_input": "2022-03-04T12:42:35.338204Z",
     "iopub.status.busy": "2022-03-04T12:42:35.337417Z",
     "iopub.status.idle": "2022-03-04T12:42:35.703799Z",
     "shell.execute_reply": "2022-03-04T12:42:35.703238Z",
     "shell.execute_reply.started": "2022-03-04T06:00:27.892272Z"
    },
    "papermill": {
     "duration": 0.892938,
     "end_time": "2022-03-04T12:42:35.703945",
     "exception": false,
     "start_time": "2022-03-04T12:42:34.811007",
     "status": "completed"
    },
    "tags": []
   },
   "outputs": [
    {
     "name": "stdout",
     "output_type": "stream",
     "text": [
      "total no of unique content: 25\n"
     ]
    },
    {
     "data": {
      "image/png": "[encoded data removed]",
      "text/plain": [
       "<Figure size 1080x360 with 1 Axes>"
      ]
     },
     "metadata": {
      "needs_background": "light"
     },
     "output_type": "display_data"
    }
   ],
   "source": [
    "contnt=data['content_id'].value_counts()[:25]\n",
    "print('total no of unique content:',len(contnt))\n",
    "\n",
    "plt.figure(figsize=(15,5))\n",
    "sns.barplot(x=contnt.index,y=contnt.values,order=contnt.index)\n",
    "plt.title('top 25 contents mostly watched by students ')\n",
    "plt.xlabel('content_id')\n",
    "plt.ylabel('no of students watched')\n",
    "plt.xticks(rotation=90)\n",
    "plt.show()"
   ]
  },
  {
   "cell_type": "markdown",
   "metadata": {
    "papermill": {
     "duration": 0.105545,
     "end_time": "2022-03-04T12:42:35.913842",
     "exception": false,
     "start_time": "2022-03-04T12:42:35.808297",
     "status": "completed"
    },
    "tags": []
   },
   "source": [
    "## Analysis on time taken by users"
   ]
  },
  {
   "cell_type": "code",
   "execution_count": 20,
   "metadata": {
    "execution": {
     "iopub.execute_input": "2022-03-04T12:42:36.130559Z",
     "iopub.status.busy": "2022-03-04T12:42:36.129906Z",
     "iopub.status.idle": "2022-03-04T12:42:36.141099Z",
     "shell.execute_reply": "2022-03-04T12:42:36.141602Z",
     "shell.execute_reply.started": "2022-03-04T06:01:13.464299Z"
    },
    "papermill": {
     "duration": 0.119802,
     "end_time": "2022-03-04T12:42:36.141792",
     "exception": false,
     "start_time": "2022-03-04T12:42:36.021990",
     "status": "completed"
    },
    "tags": []
   },
   "outputs": [
    {
     "data": {
      "text/html": [
       "<div>\n",
       "<style scoped>\n",
       "    .dataframe tbody tr th:only-of-type {\n",
       "        vertical-align: middle;\n",
       "    }\n",
       "\n",
       "    .dataframe tbody tr th {\n",
       "        vertical-align: top;\n",
       "    }\n",
       "\n",
       "    .dataframe thead th {\n",
       "        text-align: right;\n",
       "    }\n",
       "</style>\n",
       "<table border=\"1\" class=\"dataframe\">\n",
       "  <thead>\n",
       "    <tr style=\"text-align: right;\">\n",
       "      <th></th>\n",
       "      <th>user_id</th>\n",
       "      <th>answered_correctly</th>\n",
       "      <th>prior_question_elapsed_time</th>\n",
       "      <th>total</th>\n",
       "      <th>per</th>\n",
       "    </tr>\n",
       "  </thead>\n",
       "  <tbody>\n",
       "    <tr>\n",
       "      <th>0</th>\n",
       "      <td>115</td>\n",
       "      <td>32.0</td>\n",
       "      <td>896999.0</td>\n",
       "      <td>46</td>\n",
       "      <td>70.0</td>\n",
       "    </tr>\n",
       "    <tr>\n",
       "      <th>1</th>\n",
       "      <td>124</td>\n",
       "      <td>7.0</td>\n",
       "      <td>544997.0</td>\n",
       "      <td>30</td>\n",
       "      <td>23.0</td>\n",
       "    </tr>\n",
       "    <tr>\n",
       "      <th>2</th>\n",
       "      <td>2746</td>\n",
       "      <td>11.0</td>\n",
       "      <td>325000.0</td>\n",
       "      <td>19</td>\n",
       "      <td>58.0</td>\n",
       "    </tr>\n",
       "    <tr>\n",
       "      <th>3</th>\n",
       "      <td>5382</td>\n",
       "      <td>84.0</td>\n",
       "      <td>4470000.0</td>\n",
       "      <td>125</td>\n",
       "      <td>67.0</td>\n",
       "    </tr>\n",
       "    <tr>\n",
       "      <th>4</th>\n",
       "      <td>8623</td>\n",
       "      <td>70.0</td>\n",
       "      <td>2819600.0</td>\n",
       "      <td>109</td>\n",
       "      <td>64.0</td>\n",
       "    </tr>\n",
       "  </tbody>\n",
       "</table>\n",
       "</div>"
      ],
      "text/plain": [
       "   user_id  answered_correctly  prior_question_elapsed_time  total   per\n",
       "0      115                32.0                     896999.0     46  70.0\n",
       "1      124                 7.0                     544997.0     30  23.0\n",
       "2     2746                11.0                     325000.0     19  58.0\n",
       "3     5382                84.0                    4470000.0    125  67.0\n",
       "4     8623                70.0                    2819600.0    109  64.0"
      ]
     },
     "execution_count": 20,
     "metadata": {},
     "output_type": "execute_result"
    }
   ],
   "source": [
    "g.head()"
   ]
  },
  {
   "cell_type": "code",
   "execution_count": 21,
   "metadata": {
    "execution": {
     "iopub.execute_input": "2022-03-04T12:42:36.356334Z",
     "iopub.status.busy": "2022-03-04T12:42:36.355624Z",
     "iopub.status.idle": "2022-03-04T12:42:36.370340Z",
     "shell.execute_reply": "2022-03-04T12:42:36.370828Z",
     "shell.execute_reply.started": "2022-03-04T11:06:05.237731Z"
    },
    "papermill": {
     "duration": 0.12312,
     "end_time": "2022-03-04T12:42:36.371016",
     "exception": false,
     "start_time": "2022-03-04T12:42:36.247896",
     "status": "completed"
    },
    "tags": []
   },
   "outputs": [
    {
     "data": {
      "text/html": [
       "<div>\n",
       "<style scoped>\n",
       "    .dataframe tbody tr th:only-of-type {\n",
       "        vertical-align: middle;\n",
       "    }\n",
       "\n",
       "    .dataframe tbody tr th {\n",
       "        vertical-align: top;\n",
       "    }\n",
       "\n",
       "    .dataframe thead th {\n",
       "        text-align: right;\n",
       "    }\n",
       "</style>\n",
       "<table border=\"1\" class=\"dataframe\">\n",
       "  <thead>\n",
       "    <tr style=\"text-align: right;\">\n",
       "      <th></th>\n",
       "      <th>user_id</th>\n",
       "      <th>answered_correctly</th>\n",
       "      <th>prior_question_elapsed_time</th>\n",
       "      <th>total</th>\n",
       "      <th>per</th>\n",
       "      <th>mintues</th>\n",
       "    </tr>\n",
       "  </thead>\n",
       "  <tbody>\n",
       "    <tr>\n",
       "      <th>0</th>\n",
       "      <td>115</td>\n",
       "      <td>32.0</td>\n",
       "      <td>896999.0</td>\n",
       "      <td>46</td>\n",
       "      <td>70.0</td>\n",
       "      <td>15.0</td>\n",
       "    </tr>\n",
       "    <tr>\n",
       "      <th>1</th>\n",
       "      <td>124</td>\n",
       "      <td>7.0</td>\n",
       "      <td>544997.0</td>\n",
       "      <td>30</td>\n",
       "      <td>23.0</td>\n",
       "      <td>9.0</td>\n",
       "    </tr>\n",
       "    <tr>\n",
       "      <th>2</th>\n",
       "      <td>2746</td>\n",
       "      <td>11.0</td>\n",
       "      <td>325000.0</td>\n",
       "      <td>19</td>\n",
       "      <td>58.0</td>\n",
       "      <td>5.0</td>\n",
       "    </tr>\n",
       "    <tr>\n",
       "      <th>3</th>\n",
       "      <td>5382</td>\n",
       "      <td>84.0</td>\n",
       "      <td>4470000.0</td>\n",
       "      <td>125</td>\n",
       "      <td>67.0</td>\n",
       "      <td>74.0</td>\n",
       "    </tr>\n",
       "    <tr>\n",
       "      <th>4</th>\n",
       "      <td>8623</td>\n",
       "      <td>70.0</td>\n",
       "      <td>2819600.0</td>\n",
       "      <td>109</td>\n",
       "      <td>64.0</td>\n",
       "      <td>47.0</td>\n",
       "    </tr>\n",
       "  </tbody>\n",
       "</table>\n",
       "</div>"
      ],
      "text/plain": [
       "   user_id  answered_correctly  prior_question_elapsed_time  total   per  \\\n",
       "0      115                32.0                     896999.0     46  70.0   \n",
       "1      124                 7.0                     544997.0     30  23.0   \n",
       "2     2746                11.0                     325000.0     19  58.0   \n",
       "3     5382                84.0                    4470000.0    125  67.0   \n",
       "4     8623                70.0                    2819600.0    109  64.0   \n",
       "\n",
       "   mintues  \n",
       "0     15.0  \n",
       "1      9.0  \n",
       "2      5.0  \n",
       "3     74.0  \n",
       "4     47.0  "
      ]
     },
     "execution_count": 21,
     "metadata": {},
     "output_type": "execute_result"
    }
   ],
   "source": [
    "#adding mintue column to data,so that it tells the time taken by each user in minutes\n",
    "g['mintues']=np.round(g['prior_question_elapsed_time']/60000)\n",
    "g.head()"
   ]
  },
  {
   "cell_type": "code",
   "execution_count": 22,
   "metadata": {
    "execution": {
     "iopub.execute_input": "2022-03-04T12:42:36.586268Z",
     "iopub.status.busy": "2022-03-04T12:42:36.585586Z",
     "iopub.status.idle": "2022-03-04T12:42:38.126817Z",
     "shell.execute_reply": "2022-03-04T12:42:38.127293Z",
     "shell.execute_reply.started": "2022-03-04T06:03:08.839145Z"
    },
    "papermill": {
     "duration": 1.649617,
     "end_time": "2022-03-04T12:42:38.127471",
     "exception": false,
     "start_time": "2022-03-04T12:42:36.477854",
     "status": "completed"
    },
    "tags": []
   },
   "outputs": [
    {
     "data": {
      "image/png": "[encoded data removed]",
      "text/plain": [
       "<Figure size 1080x432 with 1 Axes>"
      ]
     },
     "metadata": {
      "needs_background": "light"
     },
     "output_type": "display_data"
    }
   ],
   "source": [
    "plt.figure(figsize=(15,6))\n",
    "sns.distplot(g['mintues'].values,hist=False)\n",
    "plt.ticklabel_format(style='plain', axis='y')\n",
    "plt.ticklabel_format(style='plain', axis='x')\n",
    "plt.title('no of minutes spent by each users')\n",
    "plt.xlabel('time')\n",
    "plt.show()"
   ]
  },
  {
   "cell_type": "markdown",
   "metadata": {
    "papermill": {
     "duration": 0.105544,
     "end_time": "2022-03-04T12:42:38.338437",
     "exception": false,
     "start_time": "2022-03-04T12:42:38.232893",
     "status": "completed"
    },
    "tags": []
   },
   "source": [
    "**Observation:**\n",
    "\n",
    "The distribution of  time spent by all users seems to be right skewed i.e there are only few users who took more time than others\n",
    "so it is skewed and there are lot os users who took almost same time\n",
    "\n",
    "But Above chart is not showing clear picture,so trying to take only less data to see the clear distribution of time"
   ]
  },
  {
   "cell_type": "code",
   "execution_count": 23,
   "metadata": {
    "execution": {
     "iopub.execute_input": "2022-03-04T12:42:38.551604Z",
     "iopub.status.busy": "2022-03-04T12:42:38.550914Z",
     "iopub.status.idle": "2022-03-04T12:42:38.589580Z",
     "shell.execute_reply": "2022-03-04T12:42:38.590124Z",
     "shell.execute_reply.started": "2022-03-04T06:05:40.542085Z"
    },
    "papermill": {
     "duration": 0.147072,
     "end_time": "2022-03-04T12:42:38.590314",
     "exception": false,
     "start_time": "2022-03-04T12:42:38.443242",
     "status": "completed"
    },
    "tags": []
   },
   "outputs": [
    {
     "data": {
      "text/plain": [
       "(106.42990112304688, 0.0, 17383.0, 1519.0, 3495)"
      ]
     },
     "execution_count": 23,
     "metadata": {},
     "output_type": "execute_result"
    }
   ],
   "source": [
    "g['mintues'].mean(),g['mintues'].min(),g['mintues'].max(),np.percentile(g['mintues'].values,99),len(np.unique(g['mintues'].values))"
   ]
  },
  {
   "cell_type": "markdown",
   "metadata": {
    "papermill": {
     "duration": 0.106744,
     "end_time": "2022-03-04T12:42:38.802844",
     "exception": false,
     "start_time": "2022-03-04T12:42:38.696100",
     "status": "completed"
    },
    "tags": []
   },
   "source": [
    "**Observation:**\n",
    "\n",
    "From above code,it is clear that 99 of users took time below 1519 but in data max time took by user is 17383,so there are few users who  took lot of time than ususal which seems to be rare"
   ]
  },
  {
   "cell_type": "code",
   "execution_count": 24,
   "metadata": {
    "execution": {
     "iopub.execute_input": "2022-03-04T12:42:39.030868Z",
     "iopub.status.busy": "2022-03-04T12:42:39.029692Z",
     "iopub.status.idle": "2022-03-04T12:42:39.034353Z",
     "shell.execute_reply": "2022-03-04T12:42:39.035189Z",
     "shell.execute_reply.started": "2022-03-04T06:16:09.264204Z"
    },
    "papermill": {
     "duration": 0.126417,
     "end_time": "2022-03-04T12:42:39.035412",
     "exception": false,
     "start_time": "2022-03-04T12:42:38.908995",
     "status": "completed"
    },
    "tags": []
   },
   "outputs": [],
   "source": [
    "# below function takes data based on given condition \n",
    "def dist_of_minutes(index,type):\n",
    "    if type=='most':\n",
    "        user_tim=g['mintues'].value_counts()[:index]  ##taking data in descending order of time spent by all users i.e gives mintues\n",
    "                                                        #where most of users spent\n",
    "        small_d=g['mintues'][g['mintues'].isin(user_tim.index)]\n",
    "        plt.figure(figsize=(15,6.5))\n",
    "        sns.distplot(small_d.values)\n",
    "        plt.ticklabel_format(style='plain', axis='y')\n",
    "        plt.ticklabel_format(style='plain', axis='x')\n",
    "        plt.title('no of minutes spent by most of users')\n",
    "        plt.show()\n",
    "        \n",
    "    elif type=='rare':\n",
    "        user_tim=g['mintues'].value_counts().sort_values() #taking data in ascedning order of time spent by all users i.e gives mintues\n",
    "                                                            #where most of users spent very less\n",
    "        small_d=g['mintues'][g['mintues'].isin(user_tim.index[:index])]\n",
    "        plt.figure(figsize=(15,6.5))\n",
    "        sns.distplot(small_d.values)\n",
    "        plt.ticklabel_format(style='plain', axis='y')\n",
    "        plt.ticklabel_format(style='plain', axis='x')\n",
    "        plt.title('no of minutes spent by very few users')\n",
    "        plt.show()"
   ]
  },
  {
   "cell_type": "code",
   "execution_count": 25,
   "metadata": {
    "execution": {
     "iopub.execute_input": "2022-03-04T12:42:39.272567Z",
     "iopub.status.busy": "2022-03-04T12:42:39.271957Z",
     "iopub.status.idle": "2022-03-04T12:42:40.965669Z",
     "shell.execute_reply": "2022-03-04T12:42:40.965066Z",
     "shell.execute_reply.started": "2022-03-04T06:16:12.530537Z"
    },
    "papermill": {
     "duration": 1.802376,
     "end_time": "2022-03-04T12:42:40.965823",
     "exception": false,
     "start_time": "2022-03-04T12:42:39.163447",
     "status": "completed"
    },
    "tags": []
   },
   "outputs": [
    {
     "data": {
      "image/png": "[encoded data removed]",
      "text/plain": [
       "<Figure size 1080x468 with 1 Axes>"
      ]
     },
     "metadata": {
      "needs_background": "light"
     },
     "output_type": "display_data"
    }
   ],
   "source": [
    "dist_of_minutes(1000,type='most')"
   ]
  },
  {
   "cell_type": "code",
   "execution_count": 26,
   "metadata": {
    "execution": {
     "iopub.execute_input": "2022-03-04T12:42:41.191909Z",
     "iopub.status.busy": "2022-03-04T12:42:41.190759Z",
     "iopub.status.idle": "2022-03-04T12:42:42.870234Z",
     "shell.execute_reply": "2022-03-04T12:42:42.869612Z",
     "shell.execute_reply.started": "2022-03-04T06:16:19.613402Z"
    },
    "papermill": {
     "duration": 1.795943,
     "end_time": "2022-03-04T12:42:42.870371",
     "exception": false,
     "start_time": "2022-03-04T12:42:41.074428",
     "status": "completed"
    },
    "tags": []
   },
   "outputs": [
    {
     "data": {
      "image/png": "[encoded data removed]",
      "text/plain": [
       "<Figure size 1080x468 with 1 Axes>"
      ]
     },
     "metadata": {
      "needs_background": "light"
     },
     "output_type": "display_data"
    }
   ],
   "source": [
    "dist_of_minutes(100,type='most')"
   ]
  },
  {
   "cell_type": "markdown",
   "metadata": {
    "papermill": {
     "duration": 0.109462,
     "end_time": "2022-03-04T12:42:43.090219",
     "exception": false,
     "start_time": "2022-03-04T12:42:42.980757",
     "status": "completed"
    },
    "tags": []
   },
   "source": [
    "**Observation**:\n",
    "\n",
    "1.From above two graphs,it is clear that in most of users spent more time in between 0 to 20 mins \n",
    "\n",
    "2.And the very few users falling into the bin as the time increases..in precise lot of users spending very less time and very few users \n",
    "spending lot of time\n",
    "\n"
   ]
  },
  {
   "cell_type": "code",
   "execution_count": 27,
   "metadata": {
    "execution": {
     "iopub.execute_input": "2022-03-04T12:42:43.309121Z",
     "iopub.status.busy": "2022-03-04T12:42:43.308482Z",
     "iopub.status.idle": "2022-03-04T12:42:43.536269Z",
     "shell.execute_reply": "2022-03-04T12:42:43.535764Z",
     "shell.execute_reply.started": "2022-03-04T06:19:42.218700Z"
    },
    "papermill": {
     "duration": 0.338525,
     "end_time": "2022-03-04T12:42:43.536413",
     "exception": false,
     "start_time": "2022-03-04T12:42:43.197888",
     "status": "completed"
    },
    "tags": []
   },
   "outputs": [
    {
     "data": {
      "image/png": "[encoded data removed]",
      "text/plain": [
       "<Figure size 1080x468 with 1 Axes>"
      ]
     },
     "metadata": {
      "needs_background": "light"
     },
     "output_type": "display_data"
    }
   ],
   "source": [
    "dist_of_minutes(100,type='rare')"
   ]
  },
  {
   "cell_type": "markdown",
   "metadata": {
    "papermill": {
     "duration": 0.110535,
     "end_time": "2022-03-04T12:42:43.757496",
     "exception": false,
     "start_time": "2022-03-04T12:42:43.646961",
     "status": "completed"
    },
    "tags": []
   },
   "source": [
    "And there are very few users who spending lot of time as shown above"
   ]
  },
  {
   "cell_type": "code",
   "execution_count": 28,
   "metadata": {
    "execution": {
     "iopub.execute_input": "2022-03-04T12:42:43.980957Z",
     "iopub.status.busy": "2022-03-04T12:42:43.980264Z",
     "iopub.status.idle": "2022-03-04T12:42:43.992759Z",
     "shell.execute_reply": "2022-03-04T12:42:43.993278Z",
     "shell.execute_reply.started": "2022-03-04T06:20:38.554188Z"
    },
    "papermill": {
     "duration": 0.12629,
     "end_time": "2022-03-04T12:42:43.993465",
     "exception": false,
     "start_time": "2022-03-04T12:42:43.867175",
     "status": "completed"
    },
    "tags": []
   },
   "outputs": [
    {
     "data": {
      "text/html": [
       "<div>\n",
       "<style scoped>\n",
       "    .dataframe tbody tr th:only-of-type {\n",
       "        vertical-align: middle;\n",
       "    }\n",
       "\n",
       "    .dataframe tbody tr th {\n",
       "        vertical-align: top;\n",
       "    }\n",
       "\n",
       "    .dataframe thead th {\n",
       "        text-align: right;\n",
       "    }\n",
       "</style>\n",
       "<table border=\"1\" class=\"dataframe\">\n",
       "  <thead>\n",
       "    <tr style=\"text-align: right;\">\n",
       "      <th></th>\n",
       "      <th>user_id</th>\n",
       "      <th>answered_correctly</th>\n",
       "      <th>prior_question_elapsed_time</th>\n",
       "      <th>total</th>\n",
       "      <th>per</th>\n",
       "      <th>mintues</th>\n",
       "    </tr>\n",
       "  </thead>\n",
       "  <tbody>\n",
       "    <tr>\n",
       "      <th>0</th>\n",
       "      <td>115</td>\n",
       "      <td>32.0</td>\n",
       "      <td>896999.0</td>\n",
       "      <td>46</td>\n",
       "      <td>70.0</td>\n",
       "      <td>15.0</td>\n",
       "    </tr>\n",
       "    <tr>\n",
       "      <th>1</th>\n",
       "      <td>124</td>\n",
       "      <td>7.0</td>\n",
       "      <td>544997.0</td>\n",
       "      <td>30</td>\n",
       "      <td>23.0</td>\n",
       "      <td>9.0</td>\n",
       "    </tr>\n",
       "    <tr>\n",
       "      <th>2</th>\n",
       "      <td>2746</td>\n",
       "      <td>11.0</td>\n",
       "      <td>325000.0</td>\n",
       "      <td>19</td>\n",
       "      <td>58.0</td>\n",
       "      <td>5.0</td>\n",
       "    </tr>\n",
       "    <tr>\n",
       "      <th>3</th>\n",
       "      <td>5382</td>\n",
       "      <td>84.0</td>\n",
       "      <td>4470000.0</td>\n",
       "      <td>125</td>\n",
       "      <td>67.0</td>\n",
       "      <td>74.0</td>\n",
       "    </tr>\n",
       "    <tr>\n",
       "      <th>4</th>\n",
       "      <td>8623</td>\n",
       "      <td>70.0</td>\n",
       "      <td>2819600.0</td>\n",
       "      <td>109</td>\n",
       "      <td>64.0</td>\n",
       "      <td>47.0</td>\n",
       "    </tr>\n",
       "  </tbody>\n",
       "</table>\n",
       "</div>"
      ],
      "text/plain": [
       "   user_id  answered_correctly  prior_question_elapsed_time  total   per  \\\n",
       "0      115                32.0                     896999.0     46  70.0   \n",
       "1      124                 7.0                     544997.0     30  23.0   \n",
       "2     2746                11.0                     325000.0     19  58.0   \n",
       "3     5382                84.0                    4470000.0    125  67.0   \n",
       "4     8623                70.0                    2819600.0    109  64.0   \n",
       "\n",
       "   mintues  \n",
       "0     15.0  \n",
       "1      9.0  \n",
       "2      5.0  \n",
       "3     74.0  \n",
       "4     47.0  "
      ]
     },
     "execution_count": 28,
     "metadata": {},
     "output_type": "execute_result"
    }
   ],
   "source": [
    "g.head()"
   ]
  },
  {
   "cell_type": "code",
   "execution_count": 29,
   "metadata": {
    "execution": {
     "iopub.execute_input": "2022-03-04T12:42:44.222472Z",
     "iopub.status.busy": "2022-03-04T12:42:44.221456Z",
     "iopub.status.idle": "2022-03-04T12:42:44.604621Z",
     "shell.execute_reply": "2022-03-04T12:42:44.605152Z",
     "shell.execute_reply.started": "2022-03-04T06:21:58.856670Z"
    },
    "papermill": {
     "duration": 0.498118,
     "end_time": "2022-03-04T12:42:44.605342",
     "exception": false,
     "start_time": "2022-03-04T12:42:44.107224",
     "status": "completed"
    },
    "tags": []
   },
   "outputs": [
    {
     "data": {
      "image/png": "[encoded data removed]",
      "text/plain": [
       "<Figure size 1008x360 with 1 Axes>"
      ]
     },
     "metadata": {
      "needs_background": "light"
     },
     "output_type": "display_data"
    }
   ],
   "source": [
    "val=g['mintues'].value_counts()\n",
    "plt.figure(figsize=(14,5))\n",
    "sns.barplot(x=val.index[:35],y=val.values[:35],order=val.index[:35])\n",
    "plt.title('Time spent by most of users')\n",
    "plt.xlabel('time ')\n",
    "plt.ylabel('No of users')\n",
    "plt.show()"
   ]
  },
  {
   "cell_type": "markdown",
   "metadata": {
    "papermill": {
     "duration": 0.114185,
     "end_time": "2022-03-04T12:42:44.832022",
     "exception": false,
     "start_time": "2022-03-04T12:42:44.717837",
     "status": "completed"
    },
    "tags": []
   },
   "source": [
    "**Observation:**\n",
    "\n",
    "Most of users spent 10 minutes in exam/content and almost lot of users spent time in between 10 to 25 minutes"
   ]
  },
  {
   "cell_type": "code",
   "execution_count": 30,
   "metadata": {
    "execution": {
     "iopub.execute_input": "2022-03-04T12:42:45.131240Z",
     "iopub.status.busy": "2022-03-04T12:42:45.117356Z",
     "iopub.status.idle": "2022-03-04T12:42:45.944933Z",
     "shell.execute_reply": "2022-03-04T12:42:45.945445Z",
     "shell.execute_reply.started": "2022-03-04T06:25:28.634686Z"
    },
    "papermill": {
     "duration": 1.000638,
     "end_time": "2022-03-04T12:42:45.945621",
     "exception": false,
     "start_time": "2022-03-04T12:42:44.944983",
     "status": "completed"
    },
    "tags": []
   },
   "outputs": [
    {
     "data": {
      "image/png": "[encoded data removed]",
      "text/plain": [
       "<Figure size 2160x576 with 1 Axes>"
      ]
     },
     "metadata": {
      "needs_background": "light"
     },
     "output_type": "display_data"
    }
   ],
   "source": [
    "plt.figure(figsize=(30,8))\n",
    "sns.barplot(x=val.index[-60:],y=val.values[-60:],order=val.index[-60:])\n",
    "plt.xticks(rotation=90)\n",
    "plt.title('Time spent by very less no of users')\n",
    "plt.xlabel('time ')\n",
    "plt.ylabel('No of users')\n",
    "plt.show()\n"
   ]
  },
  {
   "cell_type": "markdown",
   "metadata": {
    "papermill": {
     "duration": 0.113534,
     "end_time": "2022-03-04T12:42:46.183395",
     "exception": false,
     "start_time": "2022-03-04T12:42:46.069861",
     "status": "completed"
    },
    "tags": []
   },
   "source": [
    "**Observation:**\n",
    "\n",
    "Very few users spent more time and that too every indiviudal user had unique time which is more"
   ]
  },
  {
   "cell_type": "markdown",
   "metadata": {
    "papermill": {
     "duration": 0.113095,
     "end_time": "2022-03-04T12:42:46.409499",
     "exception": false,
     "start_time": "2022-03-04T12:42:46.296404",
     "status": "completed"
    },
    "tags": []
   },
   "source": [
    "## Most time spent by all users and their performance"
   ]
  },
  {
   "cell_type": "code",
   "execution_count": 31,
   "metadata": {
    "execution": {
     "iopub.execute_input": "2022-03-04T12:42:46.639883Z",
     "iopub.status.busy": "2022-03-04T12:42:46.638882Z",
     "iopub.status.idle": "2022-03-04T12:42:47.719332Z",
     "shell.execute_reply": "2022-03-04T12:42:47.719827Z",
     "shell.execute_reply.started": "2022-03-04T07:00:56.927477Z"
    },
    "papermill": {
     "duration": 1.197128,
     "end_time": "2022-03-04T12:42:47.720006",
     "exception": false,
     "start_time": "2022-03-04T12:42:46.522878",
     "status": "completed"
    },
    "tags": []
   },
   "outputs": [
    {
     "data": {
      "image/png": "[encoded data removed]",
      "text/plain": [
       "<Figure size 1800x576 with 1 Axes>"
      ]
     },
     "metadata": {
      "needs_background": "light"
     },
     "output_type": "display_data"
    }
   ],
   "source": [
    "\n",
    "min_10=g[g['mintues']==10.0]\n",
    "\n",
    "plt.figure(figsize=(25,8))\n",
    "sns.countplot(x='per',data=min_10,order=min_10['per'].value_counts().index)\n",
    "plt.xticks(rotation=90)\n",
    "plt.show()"
   ]
  },
  {
   "cell_type": "markdown",
   "metadata": {
    "papermill": {
     "duration": 0.113444,
     "end_time": "2022-03-04T12:42:47.947579",
     "exception": false,
     "start_time": "2022-03-04T12:42:47.834135",
     "status": "completed"
    },
    "tags": []
   },
   "source": [
    "**Observation:**\n",
    "\n",
    "As 10.00 mintues is time spent by most of users in examination,so above plot gives the percentage result of those users who spent 10mins in exam\n",
    "\n",
    "So,it is clear that most of users who spent 10min had got only 50 percentage followed by 33 percent i.e not good performance"
   ]
  },
  {
   "cell_type": "markdown",
   "metadata": {
    "papermill": {
     "duration": 0.114869,
     "end_time": "2022-03-04T12:42:48.178721",
     "exception": false,
     "start_time": "2022-03-04T12:42:48.063852",
     "status": "completed"
    },
    "tags": []
   },
   "source": [
    "## Time spend by user who answered very correctly i.e top 20 users who given more correct answer"
   ]
  },
  {
   "cell_type": "code",
   "execution_count": 32,
   "metadata": {
    "execution": {
     "iopub.execute_input": "2022-03-04T12:42:48.409213Z",
     "iopub.status.busy": "2022-03-04T12:42:48.408198Z",
     "iopub.status.idle": "2022-03-04T12:42:48.413151Z",
     "shell.execute_reply": "2022-03-04T12:42:48.413728Z",
     "shell.execute_reply.started": "2022-03-04T07:03:08.912855Z"
    },
    "papermill": {
     "duration": 0.122082,
     "end_time": "2022-03-04T12:42:48.413904",
     "exception": false,
     "start_time": "2022-03-04T12:42:48.291822",
     "status": "completed"
    },
    "tags": []
   },
   "outputs": [],
   "source": [
    "def addlabels(x,y):\n",
    "    for i in range(len(x)):\n",
    "        plt.text(i, y[i], y[i], ha = 'center')"
   ]
  },
  {
   "cell_type": "code",
   "execution_count": 33,
   "metadata": {
    "execution": {
     "iopub.execute_input": "2022-03-04T12:42:48.644878Z",
     "iopub.status.busy": "2022-03-04T12:42:48.643953Z",
     "iopub.status.idle": "2022-03-04T12:42:49.126993Z",
     "shell.execute_reply": "2022-03-04T12:42:49.127681Z",
     "shell.execute_reply.started": "2022-03-04T07:09:37.182352Z"
    },
    "papermill": {
     "duration": 0.600468,
     "end_time": "2022-03-04T12:42:49.127868",
     "exception": false,
     "start_time": "2022-03-04T12:42:48.527400",
     "status": "completed"
    },
    "tags": []
   },
   "outputs": [
    {
     "data": {
      "image/png": "[encoded data removed]",
      "text/plain": [
       "<Figure size 864x432 with 1 Axes>"
      ]
     },
     "metadata": {
      "needs_background": "light"
     },
     "output_type": "display_data"
    }
   ],
   "source": [
    "sort_ans=g.sort_values('answered_correctly',ascending=False)[:20]\n",
    "sort_ans.shape\n",
    "\n",
    "plt.figure(figsize=(12,6))\n",
    "sns.barplot(x='answered_correctly',y='mintues',data=sort_ans,order=sort_ans['answered_correctly'])\n",
    "\n",
    "plt.xticks(range(len(sort_ans)),sort_ans['user_id'])\n",
    "plt.xticks(rotation=90)\n",
    "addlabels(sort_ans['user_id'].values,sort_ans['mintues'].values)\n",
    "\n",
    "\n",
    "\n",
    "plt.show()\n"
   ]
  },
  {
   "cell_type": "markdown",
   "metadata": {
    "papermill": {
     "duration": 0.114662,
     "end_time": "2022-03-04T12:42:49.357748",
     "exception": false,
     "start_time": "2022-03-04T12:42:49.243086",
     "status": "completed"
    },
    "tags": []
   },
   "source": [
    "## Average time spend by user who got top percentage in exam"
   ]
  },
  {
   "cell_type": "code",
   "execution_count": 34,
   "metadata": {
    "execution": {
     "iopub.execute_input": "2022-03-04T12:42:49.599662Z",
     "iopub.status.busy": "2022-03-04T12:42:49.589717Z",
     "iopub.status.idle": "2022-03-04T12:42:51.135311Z",
     "shell.execute_reply": "2022-03-04T12:42:51.134675Z",
     "shell.execute_reply.started": "2022-03-04T07:40:04.740108Z"
    },
    "papermill": {
     "duration": 1.662924,
     "end_time": "2022-03-04T12:42:51.135450",
     "exception": false,
     "start_time": "2022-03-04T12:42:49.472526",
     "status": "completed"
    },
    "tags": []
   },
   "outputs": [
    {
     "data": {
      "image/png": "[encoded data removed]",
      "text/plain": [
       "<Figure size 2880x1080 with 1 Axes>"
      ]
     },
     "metadata": {
      "needs_background": "light"
     },
     "output_type": "display_data"
    }
   ],
   "source": [
    "grp_per=g.groupby(['per']).sum().round().reset_index().sort_values('per')\n",
    "\n",
    "plt.figure(figsize=(40,15))\n",
    "sns.barplot(x='per',y='mintues',data=grp_per,order=grp_per['per'])\n",
    "plt.xticks(rotation=90)\n",
    "plt.show()\n",
    "\n",
    "#addlabels(grp_per['per'].values,grp_per['mintues'].values)"
   ]
  },
  {
   "cell_type": "markdown",
   "metadata": {
    "papermill": {
     "duration": 0.116317,
     "end_time": "2022-03-04T12:42:51.368737",
     "exception": false,
     "start_time": "2022-03-04T12:42:51.252420",
     "status": "completed"
    },
    "tags": []
   },
   "source": [
    "**Observation:**\n",
    "\n",
    "Suprisingly, based on performace percentage the time spent by each set of user for particualar percentage follows gaussain distribution\n",
    "it means that lot of time is spent by users who had mid range percentage i.e 55 to 80\n",
    "\n",
    "And users who had 69 percentage spent more time on content"
   ]
  },
  {
   "cell_type": "code",
   "execution_count": 35,
   "metadata": {
    "execution": {
     "iopub.execute_input": "2022-03-04T12:42:51.607351Z",
     "iopub.status.busy": "2022-03-04T12:42:51.606714Z",
     "iopub.status.idle": "2022-03-04T12:42:51.769508Z",
     "shell.execute_reply": "2022-03-04T12:42:51.768853Z",
     "shell.execute_reply.started": "2022-03-04T11:06:36.603791Z"
    },
    "papermill": {
     "duration": 0.284511,
     "end_time": "2022-03-04T12:42:51.769664",
     "exception": false,
     "start_time": "2022-03-04T12:42:51.485153",
     "status": "completed"
    },
    "tags": []
   },
   "outputs": [
    {
     "data": {
      "text/html": [
       "<div>\n",
       "<style scoped>\n",
       "    .dataframe tbody tr th:only-of-type {\n",
       "        vertical-align: middle;\n",
       "    }\n",
       "\n",
       "    .dataframe tbody tr th {\n",
       "        vertical-align: top;\n",
       "    }\n",
       "\n",
       "    .dataframe thead th {\n",
       "        text-align: right;\n",
       "    }\n",
       "</style>\n",
       "<table border=\"1\" class=\"dataframe\">\n",
       "  <thead>\n",
       "    <tr style=\"text-align: right;\">\n",
       "      <th></th>\n",
       "      <th>user_id</th>\n",
       "      <th>answered_correctly</th>\n",
       "      <th>prior_question_elapsed_time</th>\n",
       "      <th>total</th>\n",
       "      <th>per</th>\n",
       "      <th>mintues</th>\n",
       "      <th>norm_ans</th>\n",
       "      <th>norm_total</th>\n",
       "      <th>norm_min</th>\n",
       "    </tr>\n",
       "  </thead>\n",
       "  <tbody>\n",
       "    <tr>\n",
       "      <th>0</th>\n",
       "      <td>115</td>\n",
       "      <td>32.0</td>\n",
       "      <td>896999.0</td>\n",
       "      <td>46</td>\n",
       "      <td>70.0</td>\n",
       "      <td>15.0</td>\n",
       "      <td>0.002238</td>\n",
       "      <td>0.002556</td>\n",
       "      <td>0.000863</td>\n",
       "    </tr>\n",
       "    <tr>\n",
       "      <th>1</th>\n",
       "      <td>124</td>\n",
       "      <td>7.0</td>\n",
       "      <td>544997.0</td>\n",
       "      <td>30</td>\n",
       "      <td>23.0</td>\n",
       "      <td>9.0</td>\n",
       "      <td>0.000490</td>\n",
       "      <td>0.001647</td>\n",
       "      <td>0.000518</td>\n",
       "    </tr>\n",
       "    <tr>\n",
       "      <th>2</th>\n",
       "      <td>2746</td>\n",
       "      <td>11.0</td>\n",
       "      <td>325000.0</td>\n",
       "      <td>19</td>\n",
       "      <td>58.0</td>\n",
       "      <td>5.0</td>\n",
       "      <td>0.000769</td>\n",
       "      <td>0.001022</td>\n",
       "      <td>0.000288</td>\n",
       "    </tr>\n",
       "    <tr>\n",
       "      <th>3</th>\n",
       "      <td>5382</td>\n",
       "      <td>84.0</td>\n",
       "      <td>4470000.0</td>\n",
       "      <td>125</td>\n",
       "      <td>67.0</td>\n",
       "      <td>74.0</td>\n",
       "      <td>0.005874</td>\n",
       "      <td>0.007042</td>\n",
       "      <td>0.004257</td>\n",
       "    </tr>\n",
       "    <tr>\n",
       "      <th>4</th>\n",
       "      <td>8623</td>\n",
       "      <td>70.0</td>\n",
       "      <td>2819600.0</td>\n",
       "      <td>109</td>\n",
       "      <td>64.0</td>\n",
       "      <td>47.0</td>\n",
       "      <td>0.004895</td>\n",
       "      <td>0.006134</td>\n",
       "      <td>0.002704</td>\n",
       "    </tr>\n",
       "  </tbody>\n",
       "</table>\n",
       "</div>"
      ],
      "text/plain": [
       "   user_id  answered_correctly  prior_question_elapsed_time  total   per  \\\n",
       "0      115                32.0                     896999.0     46  70.0   \n",
       "1      124                 7.0                     544997.0     30  23.0   \n",
       "2     2746                11.0                     325000.0     19  58.0   \n",
       "3     5382                84.0                    4470000.0    125  67.0   \n",
       "4     8623                70.0                    2819600.0    109  64.0   \n",
       "\n",
       "   mintues  norm_ans  norm_total  norm_min  \n",
       "0     15.0  0.002238    0.002556  0.000863  \n",
       "1      9.0  0.000490    0.001647  0.000518  \n",
       "2      5.0  0.000769    0.001022  0.000288  \n",
       "3     74.0  0.005874    0.007042  0.004257  \n",
       "4     47.0  0.004895    0.006134  0.002704  "
      ]
     },
     "execution_count": 35,
     "metadata": {},
     "output_type": "execute_result"
    }
   ],
   "source": [
    "from sklearn.preprocessing import MinMaxScaler\n",
    "scaler = MinMaxScaler()\n",
    "\n",
    "\n",
    "g[['norm_ans','norm_total','norm_min']]=scaler.fit_transform(g[['answered_correctly','total','mintues']])\n",
    "g.head()"
   ]
  },
  {
   "cell_type": "code",
   "execution_count": 36,
   "metadata": {
    "execution": {
     "iopub.execute_input": "2022-03-04T12:42:52.010601Z",
     "iopub.status.busy": "2022-03-04T12:42:52.009937Z",
     "iopub.status.idle": "2022-03-04T12:42:52.099314Z",
     "shell.execute_reply": "2022-03-04T12:42:52.099823Z",
     "shell.execute_reply.started": "2022-03-04T11:06:40.167976Z"
    },
    "papermill": {
     "duration": 0.21284,
     "end_time": "2022-03-04T12:42:52.100002",
     "exception": false,
     "start_time": "2022-03-04T12:42:51.887162",
     "status": "completed"
    },
    "tags": []
   },
   "outputs": [
    {
     "data": {
      "text/html": [
       "<div>\n",
       "<style scoped>\n",
       "    .dataframe tbody tr th:only-of-type {\n",
       "        vertical-align: middle;\n",
       "    }\n",
       "\n",
       "    .dataframe tbody tr th {\n",
       "        vertical-align: top;\n",
       "    }\n",
       "\n",
       "    .dataframe thead th {\n",
       "        text-align: right;\n",
       "    }\n",
       "</style>\n",
       "<table border=\"1\" class=\"dataframe\">\n",
       "  <thead>\n",
       "    <tr style=\"text-align: right;\">\n",
       "      <th></th>\n",
       "      <th>user_id</th>\n",
       "      <th>answered_correctly</th>\n",
       "      <th>prior_question_elapsed_time</th>\n",
       "      <th>total</th>\n",
       "      <th>per</th>\n",
       "      <th>mintues</th>\n",
       "      <th>norm_ans</th>\n",
       "      <th>norm_total</th>\n",
       "      <th>norm_min</th>\n",
       "    </tr>\n",
       "  </thead>\n",
       "  <tbody>\n",
       "    <tr>\n",
       "      <th>189840</th>\n",
       "      <td>1038928152</td>\n",
       "      <td>1.0</td>\n",
       "      <td>0.0</td>\n",
       "      <td>1</td>\n",
       "      <td>100.0</td>\n",
       "      <td>0.0</td>\n",
       "      <td>0.00007</td>\n",
       "      <td>0.0</td>\n",
       "      <td>0.0</td>\n",
       "    </tr>\n",
       "    <tr>\n",
       "      <th>11057</th>\n",
       "      <td>60215278</td>\n",
       "      <td>1.0</td>\n",
       "      <td>0.0</td>\n",
       "      <td>1</td>\n",
       "      <td>100.0</td>\n",
       "      <td>0.0</td>\n",
       "      <td>0.00007</td>\n",
       "      <td>0.0</td>\n",
       "      <td>0.0</td>\n",
       "    </tr>\n",
       "    <tr>\n",
       "      <th>355559</th>\n",
       "      <td>1940480669</td>\n",
       "      <td>0.0</td>\n",
       "      <td>0.0</td>\n",
       "      <td>1</td>\n",
       "      <td>0.0</td>\n",
       "      <td>0.0</td>\n",
       "      <td>0.00000</td>\n",
       "      <td>0.0</td>\n",
       "      <td>0.0</td>\n",
       "    </tr>\n",
       "    <tr>\n",
       "      <th>294758</th>\n",
       "      <td>1610758750</td>\n",
       "      <td>1.0</td>\n",
       "      <td>0.0</td>\n",
       "      <td>1</td>\n",
       "      <td>100.0</td>\n",
       "      <td>0.0</td>\n",
       "      <td>0.00007</td>\n",
       "      <td>0.0</td>\n",
       "      <td>0.0</td>\n",
       "    </tr>\n",
       "    <tr>\n",
       "      <th>116628</th>\n",
       "      <td>639106254</td>\n",
       "      <td>1.0</td>\n",
       "      <td>0.0</td>\n",
       "      <td>1</td>\n",
       "      <td>100.0</td>\n",
       "      <td>0.0</td>\n",
       "      <td>0.00007</td>\n",
       "      <td>0.0</td>\n",
       "      <td>0.0</td>\n",
       "    </tr>\n",
       "  </tbody>\n",
       "</table>\n",
       "</div>"
      ],
      "text/plain": [
       "           user_id  answered_correctly  prior_question_elapsed_time  total  \\\n",
       "189840  1038928152                 1.0                          0.0      1   \n",
       "11057     60215278                 1.0                          0.0      1   \n",
       "355559  1940480669                 0.0                          0.0      1   \n",
       "294758  1610758750                 1.0                          0.0      1   \n",
       "116628   639106254                 1.0                          0.0      1   \n",
       "\n",
       "          per  mintues  norm_ans  norm_total  norm_min  \n",
       "189840  100.0      0.0   0.00007         0.0       0.0  \n",
       "11057   100.0      0.0   0.00007         0.0       0.0  \n",
       "355559    0.0      0.0   0.00000         0.0       0.0  \n",
       "294758  100.0      0.0   0.00007         0.0       0.0  \n",
       "116628  100.0      0.0   0.00007         0.0       0.0  "
      ]
     },
     "execution_count": 36,
     "metadata": {},
     "output_type": "execute_result"
    }
   ],
   "source": [
    "s=g.sort_values('total',ascending=True)  #sorting the data based on total question attempoted by each user\n",
    "s.head()"
   ]
  },
  {
   "cell_type": "code",
   "execution_count": 37,
   "metadata": {
    "execution": {
     "iopub.execute_input": "2022-03-04T12:42:52.343189Z",
     "iopub.status.busy": "2022-03-04T12:42:52.342346Z",
     "iopub.status.idle": "2022-03-04T12:42:53.808829Z",
     "shell.execute_reply": "2022-03-04T12:42:53.809313Z",
     "shell.execute_reply.started": "2022-03-04T07:35:52.423555Z"
    },
    "papermill": {
     "duration": 1.589021,
     "end_time": "2022-03-04T12:42:53.809486",
     "exception": false,
     "start_time": "2022-03-04T12:42:52.220465",
     "status": "completed"
    },
    "tags": []
   },
   "outputs": [
    {
     "data": {
      "image/png": "[encoded data removed]",
      "text/plain": [
       "<Figure size 1800x576 with 1 Axes>"
      ]
     },
     "metadata": {
      "needs_background": "light"
     },
     "output_type": "display_data"
    }
   ],
   "source": [
    "\n",
    "plt.figure(figsize=(25,8))\n",
    "\n",
    "\n",
    "plt.plot(range(len(s)),s['mintues'].values,label='min',color='orange')\n",
    "\n",
    "plt.plot(range(len(s)),s['total'].values,label='total',color='black')\n",
    "plt.plot(range(len(s)),s['answered_correctly'].values,label='answered_corectly',color='red')\n",
    "\n",
    "plt.title('distribution of time and correct_answers wrt total questions ')\n",
    "plt.xlabel('No of Total questions')\n",
    "plt.legend()\n",
    "plt.show()"
   ]
  },
  {
   "cell_type": "markdown",
   "metadata": {
    "papermill": {
     "duration": 0.122845,
     "end_time": "2022-03-04T12:42:54.052984",
     "exception": false,
     "start_time": "2022-03-04T12:42:53.930139",
     "status": "completed"
    },
    "tags": []
   },
   "source": [
    "**Observation:**\n",
    "\n",
    "It seems like a pareto distribution i.e lot of users who attempted very less questions and very less users attempted more questions\n",
    "and times also following the same pattern of total questions,as questions increasing time also increasing "
   ]
  },
  {
   "cell_type": "code",
   "execution_count": 38,
   "metadata": {
    "execution": {
     "iopub.execute_input": "2022-03-04T12:42:54.296137Z",
     "iopub.status.busy": "2022-03-04T12:42:54.295425Z",
     "iopub.status.idle": "2022-03-04T12:42:58.504021Z",
     "shell.execute_reply": "2022-03-04T12:42:58.503368Z",
     "shell.execute_reply.started": "2022-03-04T07:27:34.380445Z"
    },
    "papermill": {
     "duration": 4.331538,
     "end_time": "2022-03-04T12:42:58.504161",
     "exception": false,
     "start_time": "2022-03-04T12:42:54.172623",
     "status": "completed"
    },
    "tags": []
   },
   "outputs": [
    {
     "data": {
      "image/png": "[encoded data removed]",
      "text/plain": [
       "<Figure size 1080x576 with 1 Axes>"
      ]
     },
     "metadata": {
      "needs_background": "light"
     },
     "output_type": "display_data"
    }
   ],
   "source": [
    "plt.figure(figsize=(15,8))\n",
    "sns.distplot(s['total'].values,hist=False,label='total')\n",
    "sns.distplot(s['mintues'].values,hist=False,label='minutes')\n",
    "sns.distplot(s['answered_correctly'].values,hist=False,label='answered corectly')\n",
    "plt.legend()\n",
    "plt.show()"
   ]
  },
  {
   "cell_type": "markdown",
   "metadata": {
    "papermill": {
     "duration": 0.120694,
     "end_time": "2022-03-04T12:42:58.745469",
     "exception": false,
     "start_time": "2022-03-04T12:42:58.624775",
     "status": "completed"
    },
    "tags": []
   },
   "source": [
    "**Observation:**\n",
    "\n",
    "And three features follows the same dsitribution i.e total questions and corect answers and time are related to each other"
   ]
  },
  {
   "cell_type": "code",
   "execution_count": 39,
   "metadata": {
    "execution": {
     "iopub.execute_input": "2022-03-04T12:42:58.992354Z",
     "iopub.status.busy": "2022-03-04T12:42:58.991617Z",
     "iopub.status.idle": "2022-03-04T12:42:59.005588Z",
     "shell.execute_reply": "2022-03-04T12:42:59.006107Z",
     "shell.execute_reply.started": "2022-03-04T07:40:20.214226Z"
    },
    "papermill": {
     "duration": 0.140005,
     "end_time": "2022-03-04T12:42:59.006309",
     "exception": false,
     "start_time": "2022-03-04T12:42:58.866304",
     "status": "completed"
    },
    "tags": []
   },
   "outputs": [
    {
     "data": {
      "text/html": [
       "<div>\n",
       "<style scoped>\n",
       "    .dataframe tbody tr th:only-of-type {\n",
       "        vertical-align: middle;\n",
       "    }\n",
       "\n",
       "    .dataframe tbody tr th {\n",
       "        vertical-align: top;\n",
       "    }\n",
       "\n",
       "    .dataframe thead th {\n",
       "        text-align: right;\n",
       "    }\n",
       "</style>\n",
       "<table border=\"1\" class=\"dataframe\">\n",
       "  <thead>\n",
       "    <tr style=\"text-align: right;\">\n",
       "      <th></th>\n",
       "      <th>per</th>\n",
       "      <th>user_id</th>\n",
       "      <th>answered_correctly</th>\n",
       "      <th>prior_question_elapsed_time</th>\n",
       "      <th>total</th>\n",
       "      <th>mintues</th>\n",
       "    </tr>\n",
       "  </thead>\n",
       "  <tbody>\n",
       "    <tr>\n",
       "      <th>0</th>\n",
       "      <td>0.0</td>\n",
       "      <td>199778150095</td>\n",
       "      <td>0.0</td>\n",
       "      <td>25346712.0</td>\n",
       "      <td>1311</td>\n",
       "      <td>424.0</td>\n",
       "    </tr>\n",
       "    <tr>\n",
       "      <th>1</th>\n",
       "      <td>3.0</td>\n",
       "      <td>37956697208</td>\n",
       "      <td>32.0</td>\n",
       "      <td>15138908.0</td>\n",
       "      <td>965</td>\n",
       "      <td>253.0</td>\n",
       "    </tr>\n",
       "    <tr>\n",
       "      <th>2</th>\n",
       "      <td>4.0</td>\n",
       "      <td>1384170187</td>\n",
       "      <td>2.0</td>\n",
       "      <td>882000.0</td>\n",
       "      <td>50</td>\n",
       "      <td>15.0</td>\n",
       "    </tr>\n",
       "    <tr>\n",
       "      <th>3</th>\n",
       "      <td>5.0</td>\n",
       "      <td>11411812300</td>\n",
       "      <td>13.0</td>\n",
       "      <td>5925559.0</td>\n",
       "      <td>261</td>\n",
       "      <td>98.0</td>\n",
       "    </tr>\n",
       "    <tr>\n",
       "      <th>4</th>\n",
       "      <td>6.0</td>\n",
       "      <td>52266213560</td>\n",
       "      <td>63.0</td>\n",
       "      <td>18112356.0</td>\n",
       "      <td>1024</td>\n",
       "      <td>299.0</td>\n",
       "    </tr>\n",
       "  </tbody>\n",
       "</table>\n",
       "</div>"
      ],
      "text/plain": [
       "   per       user_id  answered_correctly  prior_question_elapsed_time  total  \\\n",
       "0  0.0  199778150095                 0.0                   25346712.0   1311   \n",
       "1  3.0   37956697208                32.0                   15138908.0    965   \n",
       "2  4.0    1384170187                 2.0                     882000.0     50   \n",
       "3  5.0   11411812300                13.0                    5925559.0    261   \n",
       "4  6.0   52266213560                63.0                   18112356.0   1024   \n",
       "\n",
       "   mintues  \n",
       "0    424.0  \n",
       "1    253.0  \n",
       "2     15.0  \n",
       "3     98.0  \n",
       "4    299.0  "
      ]
     },
     "execution_count": 39,
     "metadata": {},
     "output_type": "execute_result"
    }
   ],
   "source": [
    "grp_per.head()"
   ]
  },
  {
   "cell_type": "code",
   "execution_count": 40,
   "metadata": {
    "execution": {
     "iopub.execute_input": "2022-03-04T12:42:59.268659Z",
     "iopub.status.busy": "2022-03-04T12:42:59.267987Z",
     "iopub.status.idle": "2022-03-04T12:43:01.213024Z",
     "shell.execute_reply": "2022-03-04T12:43:01.212478Z",
     "shell.execute_reply.started": "2022-03-04T07:43:45.757067Z"
    },
    "papermill": {
     "duration": 2.084402,
     "end_time": "2022-03-04T12:43:01.213176",
     "exception": false,
     "start_time": "2022-03-04T12:42:59.128774",
     "status": "completed"
    },
    "tags": []
   },
   "outputs": [
    {
     "data": {
      "image/png": "[encoded data removed]",
      "text/plain": [
       "<Figure size 2160x864 with 1 Axes>"
      ]
     },
     "metadata": {
      "needs_background": "light"
     },
     "output_type": "display_data"
    }
   ],
   "source": [
    "plt.figure(figsize=(30,12))\n",
    "plt.ticklabel_format(style='plain', axis='y')\n",
    "sns.barplot(x='per',y='total',data=grp_per,color='red')\n",
    "sns.barplot(x='per',y='answered_correctly',data=grp_per,color='blue')\n",
    "sns.barplot(x='per',y='mintues',data=grp_per,color='black')\n",
    "plt.xticks(rotation=90)\n",
    "plt.show()"
   ]
  },
  {
   "cell_type": "markdown",
   "metadata": {
    "papermill": {
     "duration": 0.122054,
     "end_time": "2022-03-04T12:43:01.457567",
     "exception": false,
     "start_time": "2022-03-04T12:43:01.335513",
     "status": "completed"
    },
    "tags": []
   },
   "source": [
    "**Observation:**\n",
    "\n",
    "1.Total Question,answered_corecctly and time follows the gaussain distribution when percantge of users is considered\n",
    "\n",
    "2.As we know percentage/performance of users following the gausaiin distribution,so the total question attempted by each percentage users also follwong the gaussian vibes and interestly out of total questions ,the correct answers are also folling gaussain\n",
    "\n",
    "3.And as we come to know that time is dependnt on total questions,so based on questions distribution ,time distribution is also matching \n",
    "\n",
    "4.In final,there lot of questions/time spent by the users who got percentage of 50 to 80 range and rest of them have very less contribution of questions ,so time also low"
   ]
  },
  {
   "cell_type": "markdown",
   "metadata": {
    "papermill": {
     "duration": 0.122361,
     "end_time": "2022-03-04T12:43:01.702240",
     "exception": false,
     "start_time": "2022-03-04T12:43:01.579879",
     "status": "completed"
    },
    "tags": []
   },
   "source": [
    "## Finding the level of content i.e easy ,medium and hard:\n",
    "\n",
    "There may be case like for some x content, 1000 users attempted and only 20 given correct answers\n",
    "so that we get to know that x conetnt is very tough to students"
   ]
  },
  {
   "cell_type": "code",
   "execution_count": 41,
   "metadata": {
    "execution": {
     "iopub.execute_input": "2022-03-04T12:43:01.956507Z",
     "iopub.status.busy": "2022-03-04T12:43:01.955778Z",
     "iopub.status.idle": "2022-03-04T12:43:01.964310Z",
     "shell.execute_reply": "2022-03-04T12:43:01.964827Z",
     "shell.execute_reply.started": "2022-03-04T11:06:47.106564Z"
    },
    "papermill": {
     "duration": 0.13959,
     "end_time": "2022-03-04T12:43:01.965001",
     "exception": false,
     "start_time": "2022-03-04T12:43:01.825411",
     "status": "completed"
    },
    "tags": []
   },
   "outputs": [
    {
     "data": {
      "text/html": [
       "<div>\n",
       "<style scoped>\n",
       "    .dataframe tbody tr th:only-of-type {\n",
       "        vertical-align: middle;\n",
       "    }\n",
       "\n",
       "    .dataframe tbody tr th {\n",
       "        vertical-align: top;\n",
       "    }\n",
       "\n",
       "    .dataframe thead th {\n",
       "        text-align: right;\n",
       "    }\n",
       "</style>\n",
       "<table border=\"1\" class=\"dataframe\">\n",
       "  <thead>\n",
       "    <tr style=\"text-align: right;\">\n",
       "      <th></th>\n",
       "      <th>row_id</th>\n",
       "      <th>timestamp</th>\n",
       "      <th>user_id</th>\n",
       "      <th>content_id</th>\n",
       "      <th>content_type_id</th>\n",
       "      <th>task_container_id</th>\n",
       "      <th>user_answer</th>\n",
       "      <th>answered_correctly</th>\n",
       "      <th>prior_question_elapsed_time</th>\n",
       "      <th>prior_question_had_explanation</th>\n",
       "    </tr>\n",
       "  </thead>\n",
       "  <tbody>\n",
       "    <tr>\n",
       "      <th>0</th>\n",
       "      <td>0</td>\n",
       "      <td>0</td>\n",
       "      <td>115</td>\n",
       "      <td>5692</td>\n",
       "      <td>0</td>\n",
       "      <td>1</td>\n",
       "      <td>3</td>\n",
       "      <td>1</td>\n",
       "      <td>NaN</td>\n",
       "      <td>&lt;NA&gt;</td>\n",
       "    </tr>\n",
       "    <tr>\n",
       "      <th>1</th>\n",
       "      <td>1</td>\n",
       "      <td>56943</td>\n",
       "      <td>115</td>\n",
       "      <td>5716</td>\n",
       "      <td>0</td>\n",
       "      <td>2</td>\n",
       "      <td>2</td>\n",
       "      <td>1</td>\n",
       "      <td>37000.0</td>\n",
       "      <td>False</td>\n",
       "    </tr>\n",
       "    <tr>\n",
       "      <th>2</th>\n",
       "      <td>2</td>\n",
       "      <td>118363</td>\n",
       "      <td>115</td>\n",
       "      <td>128</td>\n",
       "      <td>0</td>\n",
       "      <td>0</td>\n",
       "      <td>0</td>\n",
       "      <td>1</td>\n",
       "      <td>55000.0</td>\n",
       "      <td>False</td>\n",
       "    </tr>\n",
       "    <tr>\n",
       "      <th>3</th>\n",
       "      <td>3</td>\n",
       "      <td>131167</td>\n",
       "      <td>115</td>\n",
       "      <td>7860</td>\n",
       "      <td>0</td>\n",
       "      <td>3</td>\n",
       "      <td>0</td>\n",
       "      <td>1</td>\n",
       "      <td>19000.0</td>\n",
       "      <td>False</td>\n",
       "    </tr>\n",
       "    <tr>\n",
       "      <th>4</th>\n",
       "      <td>4</td>\n",
       "      <td>137965</td>\n",
       "      <td>115</td>\n",
       "      <td>7922</td>\n",
       "      <td>0</td>\n",
       "      <td>4</td>\n",
       "      <td>1</td>\n",
       "      <td>1</td>\n",
       "      <td>11000.0</td>\n",
       "      <td>False</td>\n",
       "    </tr>\n",
       "  </tbody>\n",
       "</table>\n",
       "</div>"
      ],
      "text/plain": [
       "   row_id  timestamp  user_id  content_id  content_type_id  task_container_id  \\\n",
       "0       0          0      115        5692                0                  1   \n",
       "1       1      56943      115        5716                0                  2   \n",
       "2       2     118363      115         128                0                  0   \n",
       "3       3     131167      115        7860                0                  3   \n",
       "4       4     137965      115        7922                0                  4   \n",
       "\n",
       "   user_answer  answered_correctly  prior_question_elapsed_time  \\\n",
       "0            3                   1                          NaN   \n",
       "1            2                   1                      37000.0   \n",
       "2            0                   1                      55000.0   \n",
       "3            0                   1                      19000.0   \n",
       "4            1                   1                      11000.0   \n",
       "\n",
       "   prior_question_had_explanation  \n",
       "0                            <NA>  \n",
       "1                           False  \n",
       "2                           False  \n",
       "3                           False  \n",
       "4                           False  "
      ]
     },
     "execution_count": 41,
     "metadata": {},
     "output_type": "execute_result"
    }
   ],
   "source": [
    "new.head()"
   ]
  },
  {
   "cell_type": "code",
   "execution_count": 42,
   "metadata": {
    "execution": {
     "iopub.execute_input": "2022-03-04T12:43:02.214473Z",
     "iopub.status.busy": "2022-03-04T12:43:02.213841Z",
     "iopub.status.idle": "2022-03-04T12:43:10.043559Z",
     "shell.execute_reply": "2022-03-04T12:43:10.044130Z",
     "shell.execute_reply.started": "2022-03-04T11:07:47.825025Z"
    },
    "papermill": {
     "duration": 7.955637,
     "end_time": "2022-03-04T12:43:10.044309",
     "exception": false,
     "start_time": "2022-03-04T12:43:02.088672",
     "status": "completed"
    },
    "tags": []
   },
   "outputs": [
    {
     "data": {
      "text/html": [
       "<div>\n",
       "<style scoped>\n",
       "    .dataframe tbody tr th:only-of-type {\n",
       "        vertical-align: middle;\n",
       "    }\n",
       "\n",
       "    .dataframe tbody tr th {\n",
       "        vertical-align: top;\n",
       "    }\n",
       "\n",
       "    .dataframe thead th {\n",
       "        text-align: right;\n",
       "    }\n",
       "</style>\n",
       "<table border=\"1\" class=\"dataframe\">\n",
       "  <thead>\n",
       "    <tr style=\"text-align: right;\">\n",
       "      <th></th>\n",
       "      <th>content_id</th>\n",
       "      <th>answered_correctly</th>\n",
       "      <th>prior_question_elapsed_time</th>\n",
       "      <th>tot_ques</th>\n",
       "      <th>min</th>\n",
       "      <th>per</th>\n",
       "    </tr>\n",
       "  </thead>\n",
       "  <tbody>\n",
       "    <tr>\n",
       "      <th>0</th>\n",
       "      <td>0</td>\n",
       "      <td>6266.0</td>\n",
       "      <td>1.509616e+08</td>\n",
       "      <td>6903</td>\n",
       "      <td>2516.0</td>\n",
       "      <td>91.0</td>\n",
       "    </tr>\n",
       "    <tr>\n",
       "      <th>1</th>\n",
       "      <td>1</td>\n",
       "      <td>6589.0</td>\n",
       "      <td>1.634339e+08</td>\n",
       "      <td>7398</td>\n",
       "      <td>2724.0</td>\n",
       "      <td>89.0</td>\n",
       "    </tr>\n",
       "    <tr>\n",
       "      <th>2</th>\n",
       "      <td>2</td>\n",
       "      <td>24890.0</td>\n",
       "      <td>1.057277e+09</td>\n",
       "      <td>44905</td>\n",
       "      <td>17621.0</td>\n",
       "      <td>55.0</td>\n",
       "    </tr>\n",
       "    <tr>\n",
       "      <th>3</th>\n",
       "      <td>3</td>\n",
       "      <td>17906.0</td>\n",
       "      <td>5.356553e+08</td>\n",
       "      <td>22973</td>\n",
       "      <td>8928.0</td>\n",
       "      <td>78.0</td>\n",
       "    </tr>\n",
       "    <tr>\n",
       "      <th>4</th>\n",
       "      <td>4</td>\n",
       "      <td>19461.0</td>\n",
       "      <td>7.338819e+08</td>\n",
       "      <td>31736</td>\n",
       "      <td>12231.0</td>\n",
       "      <td>61.0</td>\n",
       "    </tr>\n",
       "  </tbody>\n",
       "</table>\n",
       "</div>"
      ],
      "text/plain": [
       "   content_id  answered_correctly  prior_question_elapsed_time  tot_ques  \\\n",
       "0           0              6266.0                 1.509616e+08      6903   \n",
       "1           1              6589.0                 1.634339e+08      7398   \n",
       "2           2             24890.0                 1.057277e+09     44905   \n",
       "3           3             17906.0                 5.356553e+08     22973   \n",
       "4           4             19461.0                 7.338819e+08     31736   \n",
       "\n",
       "       min   per  \n",
       "0   2516.0  91.0  \n",
       "1   2724.0  89.0  \n",
       "2  17621.0  55.0  \n",
       "3   8928.0  78.0  \n",
       "4  12231.0  61.0  "
      ]
     },
     "execution_count": 42,
     "metadata": {},
     "output_type": "execute_result"
    }
   ],
   "source": [
    "cont=new[['content_id','answered_correctly','prior_question_elapsed_time']].groupby('content_id').sum().reset_index()\n",
    "cont_=new[['content_id','answered_correctly']].groupby('content_id').count().reset_index()\n",
    "cont['tot_ques']=cont_['answered_correctly'].values\n",
    "cont['min']=np.round(cont['prior_question_elapsed_time']/60000)\n",
    "cont['per']=np.round((cont['answered_correctly']/cont['tot_ques'])*100)\n",
    "cont.head()"
   ]
  },
  {
   "cell_type": "code",
   "execution_count": 43,
   "metadata": {
    "execution": {
     "iopub.execute_input": "2022-03-04T12:43:10.370832Z",
     "iopub.status.busy": "2022-03-04T12:43:10.369333Z",
     "iopub.status.idle": "2022-03-04T12:43:11.721509Z",
     "shell.execute_reply": "2022-03-04T12:43:11.720970Z",
     "shell.execute_reply.started": "2022-03-04T11:08:03.749940Z"
    },
    "papermill": {
     "duration": 1.548336,
     "end_time": "2022-03-04T12:43:11.721660",
     "exception": false,
     "start_time": "2022-03-04T12:43:10.173324",
     "status": "completed"
    },
    "tags": []
   },
   "outputs": [
    {
     "data": {
      "image/png": "[encoded data removed]",
      "text/plain": [
       "<Figure size 1800x720 with 1 Axes>"
      ]
     },
     "metadata": {
      "needs_background": "light"
     },
     "output_type": "display_data"
    }
   ],
   "source": [
    "plt.figure(figsize=(25,10))\n",
    "plt.ticklabel_format(style='plain', axis='y')\n",
    "sns.barplot(x=cont['per'].value_counts().index,y=cont['per'].value_counts().values)\n",
    "plt.xticks(rotation=90)\n",
    "plt.show()"
   ]
  },
  {
   "cell_type": "markdown",
   "metadata": {
    "papermill": {
     "duration": 0.124252,
     "end_time": "2022-03-04T12:43:11.970440",
     "exception": false,
     "start_time": "2022-03-04T12:43:11.846188",
     "status": "completed"
    },
    "tags": []
   },
   "source": [
    "**Observation:**\n",
    "\n",
    "Ther percentage of answer question with respect to each contents also follows slightly gaussian distributiion"
   ]
  },
  {
   "cell_type": "code",
   "execution_count": 44,
   "metadata": {
    "execution": {
     "iopub.execute_input": "2022-03-04T12:43:12.263032Z",
     "iopub.status.busy": "2022-03-04T12:43:12.261980Z",
     "iopub.status.idle": "2022-03-04T12:43:12.278015Z",
     "shell.execute_reply": "2022-03-04T12:43:12.278507Z",
     "shell.execute_reply.started": "2022-03-04T11:08:17.415818Z"
    },
    "papermill": {
     "duration": 0.147449,
     "end_time": "2022-03-04T12:43:12.278692",
     "exception": false,
     "start_time": "2022-03-04T12:43:12.131243",
     "status": "completed"
    },
    "tags": []
   },
   "outputs": [
    {
     "data": {
      "text/html": [
       "<div>\n",
       "<style scoped>\n",
       "    .dataframe tbody tr th:only-of-type {\n",
       "        vertical-align: middle;\n",
       "    }\n",
       "\n",
       "    .dataframe tbody tr th {\n",
       "        vertical-align: top;\n",
       "    }\n",
       "\n",
       "    .dataframe thead th {\n",
       "        text-align: right;\n",
       "    }\n",
       "</style>\n",
       "<table border=\"1\" class=\"dataframe\">\n",
       "  <thead>\n",
       "    <tr style=\"text-align: right;\">\n",
       "      <th></th>\n",
       "      <th>content_id</th>\n",
       "      <th>answered_correctly</th>\n",
       "      <th>prior_question_elapsed_time</th>\n",
       "      <th>tot_ques</th>\n",
       "      <th>min</th>\n",
       "      <th>per</th>\n",
       "      <th>diff</th>\n",
       "    </tr>\n",
       "  </thead>\n",
       "  <tbody>\n",
       "    <tr>\n",
       "      <th>0</th>\n",
       "      <td>0</td>\n",
       "      <td>6266.0</td>\n",
       "      <td>1.509616e+08</td>\n",
       "      <td>6903</td>\n",
       "      <td>2516.0</td>\n",
       "      <td>91.0</td>\n",
       "      <td>637.0</td>\n",
       "    </tr>\n",
       "    <tr>\n",
       "      <th>1</th>\n",
       "      <td>1</td>\n",
       "      <td>6589.0</td>\n",
       "      <td>1.634339e+08</td>\n",
       "      <td>7398</td>\n",
       "      <td>2724.0</td>\n",
       "      <td>89.0</td>\n",
       "      <td>809.0</td>\n",
       "    </tr>\n",
       "    <tr>\n",
       "      <th>2</th>\n",
       "      <td>2</td>\n",
       "      <td>24890.0</td>\n",
       "      <td>1.057277e+09</td>\n",
       "      <td>44905</td>\n",
       "      <td>17621.0</td>\n",
       "      <td>55.0</td>\n",
       "      <td>20015.0</td>\n",
       "    </tr>\n",
       "    <tr>\n",
       "      <th>3</th>\n",
       "      <td>3</td>\n",
       "      <td>17906.0</td>\n",
       "      <td>5.356553e+08</td>\n",
       "      <td>22973</td>\n",
       "      <td>8928.0</td>\n",
       "      <td>78.0</td>\n",
       "      <td>5067.0</td>\n",
       "    </tr>\n",
       "    <tr>\n",
       "      <th>4</th>\n",
       "      <td>4</td>\n",
       "      <td>19461.0</td>\n",
       "      <td>7.338819e+08</td>\n",
       "      <td>31736</td>\n",
       "      <td>12231.0</td>\n",
       "      <td>61.0</td>\n",
       "      <td>12275.0</td>\n",
       "    </tr>\n",
       "  </tbody>\n",
       "</table>\n",
       "</div>"
      ],
      "text/plain": [
       "   content_id  answered_correctly  prior_question_elapsed_time  tot_ques  \\\n",
       "0           0              6266.0                 1.509616e+08      6903   \n",
       "1           1              6589.0                 1.634339e+08      7398   \n",
       "2           2             24890.0                 1.057277e+09     44905   \n",
       "3           3             17906.0                 5.356553e+08     22973   \n",
       "4           4             19461.0                 7.338819e+08     31736   \n",
       "\n",
       "       min   per     diff  \n",
       "0   2516.0  91.0    637.0  \n",
       "1   2724.0  89.0    809.0  \n",
       "2  17621.0  55.0  20015.0  \n",
       "3   8928.0  78.0   5067.0  \n",
       "4  12231.0  61.0  12275.0  "
      ]
     },
     "execution_count": 44,
     "metadata": {},
     "output_type": "execute_result"
    }
   ],
   "source": [
    "\n",
    "cont['diff']=cont['tot_ques']-cont['answered_correctly']\n",
    "new_con=cont[cont['diff']>0]\n",
    "new_con.head()"
   ]
  },
  {
   "cell_type": "markdown",
   "metadata": {
    "papermill": {
     "duration": 0.124142,
     "end_time": "2022-03-04T12:43:12.527693",
     "exception": false,
     "start_time": "2022-03-04T12:43:12.403551",
     "status": "completed"
    },
    "tags": []
   },
   "source": [
    "## Contents/questions that are very tough i.e among all users who attempted ,only few users given correct answer"
   ]
  },
  {
   "cell_type": "code",
   "execution_count": 45,
   "metadata": {
    "execution": {
     "iopub.execute_input": "2022-03-04T12:43:12.783424Z",
     "iopub.status.busy": "2022-03-04T12:43:12.782380Z",
     "iopub.status.idle": "2022-03-04T12:43:14.132401Z",
     "shell.execute_reply": "2022-03-04T12:43:14.132873Z",
     "shell.execute_reply.started": "2022-03-04T08:53:18.759073Z"
    },
    "papermill": {
     "duration": 1.480156,
     "end_time": "2022-03-04T12:43:14.133063",
     "exception": false,
     "start_time": "2022-03-04T12:43:12.652907",
     "status": "completed"
    },
    "tags": []
   },
   "outputs": [
    {
     "data": {
      "image/png": "[encoded data removed]",
      "text/plain": [
       "<Figure size 1800x576 with 1 Axes>"
      ]
     },
     "metadata": {
      "needs_background": "light"
     },
     "output_type": "display_data"
    }
   ],
   "source": [
    "plt.figure(figsize=(25,8))\n",
    "tough=new_con.sort_values('diff',ascending=False)[:100]  #more the diff btn total question attempted and correctly asnweres\n",
    "                                                        #it means that very less users had answered it out of total users attemoted\n",
    "sns.barplot(x='content_id',y='diff',data=tough,order=tough['content_id'])\n",
    "plt.title('Content id Which attempted by users but only few users given correct answers ot of total users')\n",
    "plt.xticks(rotation=90)\n",
    "plt.show()"
   ]
  },
  {
   "cell_type": "markdown",
   "metadata": {
    "papermill": {
     "duration": 0.1266,
     "end_time": "2022-03-04T12:43:14.388366",
     "exception": false,
     "start_time": "2022-03-04T12:43:14.261766",
     "status": "completed"
    },
    "tags": []
   },
   "source": [
    "**Observation:**\n",
    "\n",
    "\n",
    "1.Above graphs shows some content id which seems very tough to users i.e. only few user given correct answers out of total users attempted.\n",
    "\n",
    "2.Graphs is plotted by taking difference between total question attempted and correctly answered out of it for each content,so it may be case that more the diff more the tough the content was.\n",
    "\n",
    "\n"
   ]
  },
  {
   "cell_type": "markdown",
   "metadata": {
    "papermill": {
     "duration": 0.127173,
     "end_time": "2022-03-04T12:43:14.642898",
     "exception": false,
     "start_time": "2022-03-04T12:43:14.515725",
     "status": "completed"
    },
    "tags": []
   },
   "source": [
    "## Contents which recevied lot of correct answers irrespective of total attempted on it (purely focusing on correct answers)\n"
   ]
  },
  {
   "cell_type": "code",
   "execution_count": 46,
   "metadata": {
    "execution": {
     "iopub.execute_input": "2022-03-04T12:43:14.904422Z",
     "iopub.status.busy": "2022-03-04T12:43:14.900224Z",
     "iopub.status.idle": "2022-03-04T12:43:16.254461Z",
     "shell.execute_reply": "2022-03-04T12:43:16.254963Z",
     "shell.execute_reply.started": "2022-03-04T08:55:18.331451Z"
    },
    "papermill": {
     "duration": 1.485956,
     "end_time": "2022-03-04T12:43:16.255135",
     "exception": false,
     "start_time": "2022-03-04T12:43:14.769179",
     "status": "completed"
    },
    "tags": []
   },
   "outputs": [
    {
     "data": {
      "image/png": "[encoded data removed]",
      "text/plain": [
       "<Figure size 1800x576 with 1 Axes>"
      ]
     },
     "metadata": {
      "needs_background": "light"
     },
     "output_type": "display_data"
    }
   ],
   "source": [
    "plt.figure(figsize=(25,8))\n",
    "easy=new_con.sort_values('answered_correctly',ascending=False)[:100]\n",
    "sns.barplot(x='content_id',y='answered_correctly',data=easy,order=easy['content_id'])\n",
    "\n",
    "plt.title('Conetnts which recevied lot of correct answers')\n",
    "plt.xticks(rotation=90)\n",
    "plt.show()"
   ]
  },
  {
   "cell_type": "markdown",
   "metadata": {
    "papermill": {
     "duration": 0.128197,
     "end_time": "2022-03-04T12:43:16.511440",
     "exception": false,
     "start_time": "2022-03-04T12:43:16.383243",
     "status": "completed"
    },
    "tags": []
   },
   "source": [
    "## Contents which out of all users who attempted this,every one given correct answers(100% success ratio of that content)"
   ]
  },
  {
   "cell_type": "code",
   "execution_count": 47,
   "metadata": {
    "execution": {
     "iopub.execute_input": "2022-03-04T12:43:16.784216Z",
     "iopub.status.busy": "2022-03-04T12:43:16.783404Z",
     "iopub.status.idle": "2022-03-04T12:43:16.786758Z",
     "shell.execute_reply": "2022-03-04T12:43:16.787230Z",
     "shell.execute_reply.started": "2022-03-04T11:23:18.332468Z"
    },
    "papermill": {
     "duration": 0.14782,
     "end_time": "2022-03-04T12:43:16.787411",
     "exception": false,
     "start_time": "2022-03-04T12:43:16.639591",
     "status": "completed"
    },
    "tags": []
   },
   "outputs": [
    {
     "data": {
      "text/html": [
       "<div>\n",
       "<style scoped>\n",
       "    .dataframe tbody tr th:only-of-type {\n",
       "        vertical-align: middle;\n",
       "    }\n",
       "\n",
       "    .dataframe tbody tr th {\n",
       "        vertical-align: top;\n",
       "    }\n",
       "\n",
       "    .dataframe thead th {\n",
       "        text-align: right;\n",
       "    }\n",
       "</style>\n",
       "<table border=\"1\" class=\"dataframe\">\n",
       "  <thead>\n",
       "    <tr style=\"text-align: right;\">\n",
       "      <th></th>\n",
       "      <th>content_id</th>\n",
       "      <th>answered_correctly</th>\n",
       "      <th>prior_question_elapsed_time</th>\n",
       "      <th>tot_ques</th>\n",
       "      <th>min</th>\n",
       "      <th>per</th>\n",
       "      <th>diff</th>\n",
       "    </tr>\n",
       "  </thead>\n",
       "  <tbody>\n",
       "    <tr>\n",
       "      <th>3572</th>\n",
       "      <td>3572</td>\n",
       "      <td>5.0</td>\n",
       "      <td>81000.0</td>\n",
       "      <td>5</td>\n",
       "      <td>1.0</td>\n",
       "      <td>100.0</td>\n",
       "      <td>0.0</td>\n",
       "    </tr>\n",
       "    <tr>\n",
       "      <th>4741</th>\n",
       "      <td>4741</td>\n",
       "      <td>18.0</td>\n",
       "      <td>292000.0</td>\n",
       "      <td>18</td>\n",
       "      <td>5.0</td>\n",
       "      <td>100.0</td>\n",
       "      <td>0.0</td>\n",
       "    </tr>\n",
       "    <tr>\n",
       "      <th>5823</th>\n",
       "      <td>5823</td>\n",
       "      <td>1.0</td>\n",
       "      <td>21000.0</td>\n",
       "      <td>1</td>\n",
       "      <td>0.0</td>\n",
       "      <td>100.0</td>\n",
       "      <td>0.0</td>\n",
       "    </tr>\n",
       "    <tr>\n",
       "      <th>7548</th>\n",
       "      <td>7548</td>\n",
       "      <td>11.0</td>\n",
       "      <td>588400.0</td>\n",
       "      <td>11</td>\n",
       "      <td>10.0</td>\n",
       "      <td>100.0</td>\n",
       "      <td>0.0</td>\n",
       "    </tr>\n",
       "    <tr>\n",
       "      <th>7549</th>\n",
       "      <td>7549</td>\n",
       "      <td>11.0</td>\n",
       "      <td>588400.0</td>\n",
       "      <td>11</td>\n",
       "      <td>10.0</td>\n",
       "      <td>100.0</td>\n",
       "      <td>0.0</td>\n",
       "    </tr>\n",
       "  </tbody>\n",
       "</table>\n",
       "</div>"
      ],
      "text/plain": [
       "      content_id  answered_correctly  prior_question_elapsed_time  tot_ques  \\\n",
       "3572        3572                 5.0                      81000.0         5   \n",
       "4741        4741                18.0                     292000.0        18   \n",
       "5823        5823                 1.0                      21000.0         1   \n",
       "7548        7548                11.0                     588400.0        11   \n",
       "7549        7549                11.0                     588400.0        11   \n",
       "\n",
       "       min    per  diff  \n",
       "3572   1.0  100.0   0.0  \n",
       "4741   5.0  100.0   0.0  \n",
       "5823   0.0  100.0   0.0  \n",
       "7548  10.0  100.0   0.0  \n",
       "7549  10.0  100.0   0.0  "
      ]
     },
     "execution_count": 47,
     "metadata": {},
     "output_type": "execute_result"
    }
   ],
   "source": [
    "zero=cont[cont['diff']==0]\n",
    "zero.head()"
   ]
  },
  {
   "cell_type": "code",
   "execution_count": 48,
   "metadata": {
    "execution": {
     "iopub.execute_input": "2022-03-04T12:43:17.052890Z",
     "iopub.status.busy": "2022-03-04T12:43:17.051968Z",
     "iopub.status.idle": "2022-03-04T12:43:17.055726Z",
     "shell.execute_reply": "2022-03-04T12:43:17.056415Z",
     "shell.execute_reply.started": "2022-03-04T11:26:09.287801Z"
    },
    "papermill": {
     "duration": 0.140674,
     "end_time": "2022-03-04T12:43:17.056660",
     "exception": false,
     "start_time": "2022-03-04T12:43:16.915986",
     "status": "completed"
    },
    "tags": []
   },
   "outputs": [
    {
     "name": "stdout",
     "output_type": "stream",
     "text": [
      "content with 100% success ratio:\n",
      "[ 3572  4741  5823  7548  7549  7566  7568  7850 10005 10006 10008 10033\n",
      " 12615 12806 12809 12923 12949]\n"
     ]
    }
   ],
   "source": [
    "print('content with 100% success ratio:')\n",
    "      \n",
    "print(zero['content_id'].values)"
   ]
  },
  {
   "cell_type": "markdown",
   "metadata": {
    "papermill": {
     "duration": 0.131496,
     "end_time": "2022-03-04T12:43:17.320612",
     "exception": false,
     "start_time": "2022-03-04T12:43:17.189116",
     "status": "completed"
    },
    "tags": []
   },
   "source": [
    "Above content seems easy so that each user who attempted given correct answer"
   ]
  },
  {
   "cell_type": "markdown",
   "metadata": {
    "papermill": {
     "duration": 0.128567,
     "end_time": "2022-03-04T12:43:17.578899",
     "exception": false,
     "start_time": "2022-03-04T12:43:17.450332",
     "status": "completed"
    },
    "tags": []
   },
   "source": [
    "## About lecture content"
   ]
  },
  {
   "cell_type": "code",
   "execution_count": 49,
   "metadata": {
    "execution": {
     "iopub.execute_input": "2022-03-04T12:43:17.840585Z",
     "iopub.status.busy": "2022-03-04T12:43:17.839533Z",
     "iopub.status.idle": "2022-03-04T12:43:18.220062Z",
     "shell.execute_reply": "2022-03-04T12:43:18.220570Z",
     "shell.execute_reply.started": "2022-03-04T11:27:12.615274Z"
    },
    "papermill": {
     "duration": 0.51316,
     "end_time": "2022-03-04T12:43:18.220757",
     "exception": false,
     "start_time": "2022-03-04T12:43:17.707597",
     "status": "completed"
    },
    "tags": []
   },
   "outputs": [
    {
     "data": {
      "text/html": [
       "<div>\n",
       "<style scoped>\n",
       "    .dataframe tbody tr th:only-of-type {\n",
       "        vertical-align: middle;\n",
       "    }\n",
       "\n",
       "    .dataframe tbody tr th {\n",
       "        vertical-align: top;\n",
       "    }\n",
       "\n",
       "    .dataframe thead th {\n",
       "        text-align: right;\n",
       "    }\n",
       "</style>\n",
       "<table border=\"1\" class=\"dataframe\">\n",
       "  <thead>\n",
       "    <tr style=\"text-align: right;\">\n",
       "      <th></th>\n",
       "      <th>row_id</th>\n",
       "      <th>timestamp</th>\n",
       "      <th>user_id</th>\n",
       "      <th>content_id</th>\n",
       "      <th>content_type_id</th>\n",
       "      <th>task_container_id</th>\n",
       "      <th>user_answer</th>\n",
       "      <th>answered_correctly</th>\n",
       "      <th>prior_question_elapsed_time</th>\n",
       "      <th>prior_question_had_explanation</th>\n",
       "    </tr>\n",
       "  </thead>\n",
       "  <tbody>\n",
       "    <tr>\n",
       "      <th>89</th>\n",
       "      <td>89</td>\n",
       "      <td>653762</td>\n",
       "      <td>2746</td>\n",
       "      <td>6808</td>\n",
       "      <td>1</td>\n",
       "      <td>14</td>\n",
       "      <td>-1</td>\n",
       "      <td>-1</td>\n",
       "      <td>NaN</td>\n",
       "      <td>False</td>\n",
       "    </tr>\n",
       "    <tr>\n",
       "      <th>117</th>\n",
       "      <td>117</td>\n",
       "      <td>10183847</td>\n",
       "      <td>5382</td>\n",
       "      <td>16736</td>\n",
       "      <td>1</td>\n",
       "      <td>21</td>\n",
       "      <td>-1</td>\n",
       "      <td>-1</td>\n",
       "      <td>NaN</td>\n",
       "      <td>False</td>\n",
       "    </tr>\n",
       "    <tr>\n",
       "      <th>212</th>\n",
       "      <td>212</td>\n",
       "      <td>1424348597</td>\n",
       "      <td>5382</td>\n",
       "      <td>30207</td>\n",
       "      <td>1</td>\n",
       "      <td>104</td>\n",
       "      <td>-1</td>\n",
       "      <td>-1</td>\n",
       "      <td>NaN</td>\n",
       "      <td>False</td>\n",
       "    </tr>\n",
       "    <tr>\n",
       "      <th>216</th>\n",
       "      <td>216</td>\n",
       "      <td>1425557777</td>\n",
       "      <td>5382</td>\n",
       "      <td>18545</td>\n",
       "      <td>1</td>\n",
       "      <td>121</td>\n",
       "      <td>-1</td>\n",
       "      <td>-1</td>\n",
       "      <td>NaN</td>\n",
       "      <td>False</td>\n",
       "    </tr>\n",
       "    <tr>\n",
       "      <th>295</th>\n",
       "      <td>295</td>\n",
       "      <td>405813029</td>\n",
       "      <td>8623</td>\n",
       "      <td>10540</td>\n",
       "      <td>1</td>\n",
       "      <td>59</td>\n",
       "      <td>-1</td>\n",
       "      <td>-1</td>\n",
       "      <td>NaN</td>\n",
       "      <td>False</td>\n",
       "    </tr>\n",
       "  </tbody>\n",
       "</table>\n",
       "</div>"
      ],
      "text/plain": [
       "     row_id   timestamp  user_id  content_id  content_type_id  \\\n",
       "89       89      653762     2746        6808                1   \n",
       "117     117    10183847     5382       16736                1   \n",
       "212     212  1424348597     5382       30207                1   \n",
       "216     216  1425557777     5382       18545                1   \n",
       "295     295   405813029     8623       10540                1   \n",
       "\n",
       "     task_container_id  user_answer  answered_correctly  \\\n",
       "89                  14           -1                  -1   \n",
       "117                 21           -1                  -1   \n",
       "212                104           -1                  -1   \n",
       "216                121           -1                  -1   \n",
       "295                 59           -1                  -1   \n",
       "\n",
       "     prior_question_elapsed_time  prior_question_had_explanation  \n",
       "89                           NaN                           False  \n",
       "117                          NaN                           False  \n",
       "212                          NaN                           False  \n",
       "216                          NaN                           False  \n",
       "295                          NaN                           False  "
      ]
     },
     "execution_count": 49,
     "metadata": {},
     "output_type": "execute_result"
    }
   ],
   "source": [
    "lec=data[data['content_type_id']==1]\n",
    "lec.head()"
   ]
  },
  {
   "cell_type": "code",
   "execution_count": 50,
   "metadata": {
    "execution": {
     "iopub.execute_input": "2022-03-04T12:43:18.486473Z",
     "iopub.status.busy": "2022-03-04T12:43:18.485502Z",
     "iopub.status.idle": "2022-03-04T12:43:18.490515Z",
     "shell.execute_reply": "2022-03-04T12:43:18.490998Z",
     "shell.execute_reply.started": "2022-03-04T11:27:15.151470Z"
    },
    "papermill": {
     "duration": 0.138459,
     "end_time": "2022-03-04T12:43:18.491198",
     "exception": false,
     "start_time": "2022-03-04T12:43:18.352739",
     "status": "completed"
    },
    "tags": []
   },
   "outputs": [
    {
     "data": {
      "text/plain": [
       "(1959032, 10)"
      ]
     },
     "execution_count": 50,
     "metadata": {},
     "output_type": "execute_result"
    }
   ],
   "source": [
    "lec.shape"
   ]
  },
  {
   "cell_type": "markdown",
   "metadata": {
    "papermill": {
     "duration": 0.131499,
     "end_time": "2022-03-04T12:43:18.753208",
     "exception": false,
     "start_time": "2022-03-04T12:43:18.621709",
     "status": "completed"
    },
    "tags": []
   },
   "source": [
    "**User who watched more lectures**"
   ]
  },
  {
   "cell_type": "code",
   "execution_count": 51,
   "metadata": {
    "execution": {
     "iopub.execute_input": "2022-03-04T12:43:19.020093Z",
     "iopub.status.busy": "2022-03-04T12:43:19.019093Z",
     "iopub.status.idle": "2022-03-04T12:43:19.027560Z",
     "shell.execute_reply": "2022-03-04T12:43:19.028069Z",
     "shell.execute_reply.started": "2022-03-04T11:34:48.067823Z"
    },
    "papermill": {
     "duration": 0.144624,
     "end_time": "2022-03-04T12:43:19.028251",
     "exception": false,
     "start_time": "2022-03-04T12:43:18.883627",
     "status": "completed"
    },
    "tags": []
   },
   "outputs": [],
   "source": [
    "def count(length,feature,typee,title):\n",
    "    if typee=='top':\n",
    "        val=lec[feature].value_counts()[:length]\n",
    "        plt.figure(figsize=(8,5))\n",
    "        sns.barplot(x=val.index,y=val.values,order=val.index)\n",
    "        plt.xlabel(feature)\n",
    "        plt.title(title)\n",
    "        plt.ylabel('count')\n",
    "        plt.xticks(rotation=90)\n",
    "        plt.show()\n",
    "    elif typee=='least':\n",
    "        val=lec[feature].value_counts().sort_values()[:length]\n",
    "        plt.figure(figsize=(8,5))\n",
    "        sns.barplot(x=val.index,y=val.values,order=val.index)\n",
    "        plt.xlabel(feature)\n",
    "        plt.title(title)\n",
    "        plt.ylabel('count')\n",
    "        plt.xticks(rotation=90)\n",
    "        plt.show()      "
   ]
  },
  {
   "cell_type": "code",
   "execution_count": 52,
   "metadata": {
    "execution": {
     "iopub.execute_input": "2022-03-04T12:43:19.301990Z",
     "iopub.status.busy": "2022-03-04T12:43:19.300987Z",
     "iopub.status.idle": "2022-03-04T12:43:19.708723Z",
     "shell.execute_reply": "2022-03-04T12:43:19.708046Z",
     "shell.execute_reply.started": "2022-03-04T11:34:48.508692Z"
    },
    "papermill": {
     "duration": 0.542012,
     "end_time": "2022-03-04T12:43:19.708873",
     "exception": false,
     "start_time": "2022-03-04T12:43:19.166861",
     "status": "completed"
    },
    "tags": []
   },
   "outputs": [
    {
     "data": {
      "image/png": "[encoded data removed]",
      "text/plain": [
       "<Figure size 576x360 with 1 Axes>"
      ]
     },
     "metadata": {
      "needs_background": "light"
     },
     "output_type": "display_data"
    }
   ],
   "source": [
    "count(25,'user_id',typee='top',title='Top 25 users who seen more lectures')"
   ]
  },
  {
   "cell_type": "code",
   "execution_count": 53,
   "metadata": {
    "execution": {
     "iopub.execute_input": "2022-03-04T12:43:19.998240Z",
     "iopub.status.busy": "2022-03-04T12:43:19.997561Z",
     "iopub.status.idle": "2022-03-04T12:43:20.634566Z",
     "shell.execute_reply": "2022-03-04T12:43:20.633901Z",
     "shell.execute_reply.started": "2022-03-04T11:34:54.354115Z"
    },
    "papermill": {
     "duration": 0.794617,
     "end_time": "2022-03-04T12:43:20.634729",
     "exception": false,
     "start_time": "2022-03-04T12:43:19.840112",
     "status": "completed"
    },
    "tags": []
   },
   "outputs": [
    {
     "data": {
      "image/png": "[encoded data removed]",
      "text/plain": [
       "<Figure size 576x360 with 1 Axes>"
      ]
     },
     "metadata": {
      "needs_background": "light"
     },
     "output_type": "display_data"
    }
   ],
   "source": [
    "count(35,'user_id',typee='least',title='least 35 users who seen more lectures')"
   ]
  },
  {
   "cell_type": "code",
   "execution_count": 54,
   "metadata": {
    "execution": {
     "iopub.execute_input": "2022-03-04T12:43:20.915805Z",
     "iopub.status.busy": "2022-03-04T12:43:20.915075Z",
     "iopub.status.idle": "2022-03-04T12:43:21.259279Z",
     "shell.execute_reply": "2022-03-04T12:43:21.259939Z",
     "shell.execute_reply.started": "2022-03-04T11:35:00.269084Z"
    },
    "papermill": {
     "duration": 0.492133,
     "end_time": "2022-03-04T12:43:21.260125",
     "exception": false,
     "start_time": "2022-03-04T12:43:20.767992",
     "status": "completed"
    },
    "tags": []
   },
   "outputs": [
    {
     "data": {
      "image/png": "[encoded data removed]",
      "text/plain": [
       "<Figure size 576x360 with 1 Axes>"
      ]
     },
     "metadata": {
      "needs_background": "light"
     },
     "output_type": "display_data"
    }
   ],
   "source": [
    "count(25,'content_id',typee='top',title='Top 25 contents moslty viewed')"
   ]
  },
  {
   "cell_type": "code",
   "execution_count": 55,
   "metadata": {
    "execution": {
     "iopub.execute_input": "2022-03-04T12:43:21.531599Z",
     "iopub.status.busy": "2022-03-04T12:43:21.530916Z",
     "iopub.status.idle": "2022-03-04T12:43:21.883929Z",
     "shell.execute_reply": "2022-03-04T12:43:21.883242Z",
     "shell.execute_reply.started": "2022-03-04T11:35:05.424878Z"
    },
    "papermill": {
     "duration": 0.489698,
     "end_time": "2022-03-04T12:43:21.884074",
     "exception": false,
     "start_time": "2022-03-04T12:43:21.394376",
     "status": "completed"
    },
    "tags": []
   },
   "outputs": [
    {
     "data": {
      "image/png": "[encoded data removed]",
      "text/plain": [
       "<Figure size 576x360 with 1 Axes>"
      ]
     },
     "metadata": {
      "needs_background": "light"
     },
     "output_type": "display_data"
    }
   ],
   "source": [
    "count(25,'content_id',typee='least',title='least 25 contents rarely viewed')"
   ]
  },
  {
   "cell_type": "code",
   "execution_count": 56,
   "metadata": {
    "execution": {
     "iopub.execute_input": "2022-03-04T12:43:22.166053Z",
     "iopub.status.busy": "2022-03-04T12:43:22.165396Z",
     "iopub.status.idle": "2022-03-04T12:43:22.179247Z",
     "shell.execute_reply": "2022-03-04T12:43:22.179742Z",
     "shell.execute_reply.started": "2022-03-04T11:35:09.481723Z"
    },
    "papermill": {
     "duration": 0.154964,
     "end_time": "2022-03-04T12:43:22.179921",
     "exception": false,
     "start_time": "2022-03-04T12:43:22.024957",
     "status": "completed"
    },
    "tags": []
   },
   "outputs": [
    {
     "data": {
      "text/plain": [
       "415"
      ]
     },
     "execution_count": 56,
     "metadata": {},
     "output_type": "execute_result"
    }
   ],
   "source": [
    "#total no of uniqye contents\n",
    "\n",
    "length=len(lec['content_id'].value_counts())\n",
    "length"
   ]
  },
  {
   "cell_type": "code",
   "execution_count": null,
   "metadata": {},
   "outputs": [],
   "source": []
  },
  {
   "cell_type": "code",
   "execution_count": null,
   "metadata": {},
   "outputs": [],
   "source": []
  },
  {
   "cell_type": "markdown",
   "metadata": {
    "papermill": {
     "duration": 0.135207,
     "end_time": "2022-03-04T12:43:22.451164",
     "exception": false,
     "start_time": "2022-03-04T12:43:22.315957",
     "status": "completed"
    },
    "tags": []
   },
   "source": [
    "# lets check question and lecture dataset"
   ]
  },
  {
   "cell_type": "code",
   "execution_count": 57,
   "metadata": {
    "execution": {
     "iopub.execute_input": "2022-03-04T12:43:22.725582Z",
     "iopub.status.busy": "2022-03-04T12:43:22.724946Z",
     "iopub.status.idle": "2022-03-04T12:43:22.750083Z",
     "shell.execute_reply": "2022-03-04T12:43:22.750694Z",
     "shell.execute_reply.started": "2022-03-04T11:40:58.859405Z"
    },
    "papermill": {
     "duration": 0.164153,
     "end_time": "2022-03-04T12:43:22.750864",
     "exception": false,
     "start_time": "2022-03-04T12:43:22.586711",
     "status": "completed"
    },
    "tags": []
   },
   "outputs": [
    {
     "data": {
      "text/html": [
       "<div>\n",
       "<style scoped>\n",
       "    .dataframe tbody tr th:only-of-type {\n",
       "        vertical-align: middle;\n",
       "    }\n",
       "\n",
       "    .dataframe tbody tr th {\n",
       "        vertical-align: top;\n",
       "    }\n",
       "\n",
       "    .dataframe thead th {\n",
       "        text-align: right;\n",
       "    }\n",
       "</style>\n",
       "<table border=\"1\" class=\"dataframe\">\n",
       "  <thead>\n",
       "    <tr style=\"text-align: right;\">\n",
       "      <th></th>\n",
       "      <th>lecture_id</th>\n",
       "      <th>tag</th>\n",
       "      <th>part</th>\n",
       "      <th>type_of</th>\n",
       "    </tr>\n",
       "  </thead>\n",
       "  <tbody>\n",
       "    <tr>\n",
       "      <th>0</th>\n",
       "      <td>89</td>\n",
       "      <td>159</td>\n",
       "      <td>5</td>\n",
       "      <td>concept</td>\n",
       "    </tr>\n",
       "    <tr>\n",
       "      <th>1</th>\n",
       "      <td>100</td>\n",
       "      <td>70</td>\n",
       "      <td>1</td>\n",
       "      <td>concept</td>\n",
       "    </tr>\n",
       "    <tr>\n",
       "      <th>2</th>\n",
       "      <td>185</td>\n",
       "      <td>45</td>\n",
       "      <td>6</td>\n",
       "      <td>concept</td>\n",
       "    </tr>\n",
       "    <tr>\n",
       "      <th>3</th>\n",
       "      <td>192</td>\n",
       "      <td>79</td>\n",
       "      <td>5</td>\n",
       "      <td>solving question</td>\n",
       "    </tr>\n",
       "    <tr>\n",
       "      <th>4</th>\n",
       "      <td>317</td>\n",
       "      <td>156</td>\n",
       "      <td>5</td>\n",
       "      <td>solving question</td>\n",
       "    </tr>\n",
       "  </tbody>\n",
       "</table>\n",
       "</div>"
      ],
      "text/plain": [
       "   lecture_id  tag  part           type_of\n",
       "0          89  159     5           concept\n",
       "1         100   70     1           concept\n",
       "2         185   45     6           concept\n",
       "3         192   79     5  solving question\n",
       "4         317  156     5  solving question"
      ]
     },
     "execution_count": 57,
     "metadata": {},
     "output_type": "execute_result"
    }
   ],
   "source": [
    "lecture=pd.read_csv('../input/riiid-test-answer-prediction/lectures.csv')\n",
    "lecture.head()"
   ]
  },
  {
   "cell_type": "code",
   "execution_count": 58,
   "metadata": {
    "execution": {
     "iopub.execute_input": "2022-03-04T12:43:23.032182Z",
     "iopub.status.busy": "2022-03-04T12:43:23.031424Z",
     "iopub.status.idle": "2022-03-04T12:43:23.037081Z",
     "shell.execute_reply": "2022-03-04T12:43:23.037669Z",
     "shell.execute_reply.started": "2022-03-04T11:41:01.862604Z"
    },
    "papermill": {
     "duration": 0.150471,
     "end_time": "2022-03-04T12:43:23.037894",
     "exception": false,
     "start_time": "2022-03-04T12:43:22.887423",
     "status": "completed"
    },
    "tags": []
   },
   "outputs": [
    {
     "data": {
      "text/plain": [
       "(418, 4)"
      ]
     },
     "execution_count": 58,
     "metadata": {},
     "output_type": "execute_result"
    }
   ],
   "source": [
    "lecture.shape"
   ]
  },
  {
   "cell_type": "markdown",
   "metadata": {
    "papermill": {
     "duration": 0.136008,
     "end_time": "2022-03-04T12:43:23.328535",
     "exception": false,
     "start_time": "2022-03-04T12:43:23.192527",
     "status": "completed"
    },
    "tags": []
   },
   "source": [
    "## Exploring the lecture datset"
   ]
  },
  {
   "cell_type": "code",
   "execution_count": 59,
   "metadata": {
    "execution": {
     "iopub.execute_input": "2022-03-04T12:43:23.604436Z",
     "iopub.status.busy": "2022-03-04T12:43:23.603757Z",
     "iopub.status.idle": "2022-03-04T12:43:23.914007Z",
     "shell.execute_reply": "2022-03-04T12:43:23.913288Z",
     "shell.execute_reply.started": "2022-03-04T11:41:04.661649Z"
    },
    "papermill": {
     "duration": 0.449111,
     "end_time": "2022-03-04T12:43:23.914149",
     "exception": false,
     "start_time": "2022-03-04T12:43:23.465038",
     "status": "completed"
    },
    "tags": []
   },
   "outputs": [
    {
     "data": {
      "image/png": "[encoded data removed]",
      "text/plain": [
       "<Figure size 720x360 with 1 Axes>"
      ]
     },
     "metadata": {
      "needs_background": "light"
     },
     "output_type": "display_data"
    }
   ],
   "source": [
    "plt.figure(figsize=(10,5))\n",
    "sns.countplot(x='tag',data=lecture,order=lecture['tag'].value_counts().iloc[:25].index)\n",
    "\n",
    "plt.title('tags present in data')\n",
    "plt.xticks(rotation=90)\n",
    "plt.show()  "
   ]
  },
  {
   "cell_type": "code",
   "execution_count": 60,
   "metadata": {
    "execution": {
     "iopub.execute_input": "2022-03-04T12:43:24.204469Z",
     "iopub.status.busy": "2022-03-04T12:43:24.203405Z",
     "iopub.status.idle": "2022-03-04T12:43:24.384063Z",
     "shell.execute_reply": "2022-03-04T12:43:24.384552Z",
     "shell.execute_reply.started": "2022-03-04T11:41:31.214467Z"
    },
    "papermill": {
     "duration": 0.330739,
     "end_time": "2022-03-04T12:43:24.384735",
     "exception": false,
     "start_time": "2022-03-04T12:43:24.053996",
     "status": "completed"
    },
    "tags": []
   },
   "outputs": [
    {
     "data": {
      "image/png": "[encoded data removed]",
      "text/plain": [
       "<Figure size 720x360 with 1 Axes>"
      ]
     },
     "metadata": {
      "needs_background": "light"
     },
     "output_type": "display_data"
    }
   ],
   "source": [
    "plt.figure(figsize=(10,5))\n",
    "sns.countplot(x='type_of',data=lecture,order=lecture['type_of'].value_counts().index)\n",
    "plt.title('typpes of lectures')\n",
    "plt.xticks(rotation=90)\n",
    "plt.show()  "
   ]
  },
  {
   "cell_type": "code",
   "execution_count": 61,
   "metadata": {
    "execution": {
     "iopub.execute_input": "2022-03-04T12:43:24.666566Z",
     "iopub.status.busy": "2022-03-04T12:43:24.665899Z",
     "iopub.status.idle": "2022-03-04T12:43:24.866468Z",
     "shell.execute_reply": "2022-03-04T12:43:24.865839Z",
     "shell.execute_reply.started": "2022-03-04T11:42:26.786712Z"
    },
    "papermill": {
     "duration": 0.342986,
     "end_time": "2022-03-04T12:43:24.866614",
     "exception": false,
     "start_time": "2022-03-04T12:43:24.523628",
     "status": "completed"
    },
    "tags": []
   },
   "outputs": [
    {
     "data": {
      "image/png": "[encoded data removed]",
      "text/plain": [
       "<Figure size 720x360 with 1 Axes>"
      ]
     },
     "metadata": {
      "needs_background": "light"
     },
     "output_type": "display_data"
    }
   ],
   "source": [
    "plt.figure(figsize=(10,5))\n",
    "sns.countplot(x='part',data=lecture,order=lecture['part'].value_counts().index)\n",
    "plt.title('typpes of parts present in data')\n",
    "plt.xticks(rotation=90)\n",
    "plt.show()  "
   ]
  },
  {
   "cell_type": "code",
   "execution_count": 62,
   "metadata": {
    "execution": {
     "iopub.execute_input": "2022-03-04T12:43:25.162153Z",
     "iopub.status.busy": "2022-03-04T12:43:25.158764Z",
     "iopub.status.idle": "2022-03-04T12:43:25.461215Z",
     "shell.execute_reply": "2022-03-04T12:43:25.461781Z",
     "shell.execute_reply.started": "2022-03-04T11:42:32.145712Z"
    },
    "papermill": {
     "duration": 0.453543,
     "end_time": "2022-03-04T12:43:25.461960",
     "exception": false,
     "start_time": "2022-03-04T12:43:25.008417",
     "status": "completed"
    },
    "tags": []
   },
   "outputs": [
    {
     "data": {
      "image/png": "[encoded data removed]",
      "text/plain": [
       "<Figure size 720x360 with 1 Axes>"
      ]
     },
     "metadata": {
      "needs_background": "light"
     },
     "output_type": "display_data"
    }
   ],
   "source": [
    "plt.figure(figsize=(10,5))\n",
    "sns.countplot(x='part',data=lecture,hue='type_of',order=lecture['part'].value_counts().index)\n",
    "plt.title('typpes of lectures')\n",
    "plt.xticks(rotation=90)\n",
    "plt.show()  "
   ]
  },
  {
   "cell_type": "markdown",
   "metadata": {
    "papermill": {
     "duration": 0.139756,
     "end_time": "2022-03-04T12:43:25.742902",
     "exception": false,
     "start_time": "2022-03-04T12:43:25.603146",
     "status": "completed"
    },
    "tags": []
   },
   "source": [
    "**Observation:**\n",
    "\n",
    "Lectures are more related to concepts and soliving questions\n",
    "\n",
    "And in each part,most of content is related concept and solving questions but except part 2 and part 1 every part has more concept realted lectures than solving questions"
   ]
  },
  {
   "cell_type": "markdown",
   "metadata": {
    "papermill": {
     "duration": 0.144991,
     "end_time": "2022-03-04T12:43:26.027994",
     "exception": false,
     "start_time": "2022-03-04T12:43:25.883003",
     "status": "completed"
    },
    "tags": []
   },
   "source": [
    "## Understanding the questions data"
   ]
  },
  {
   "cell_type": "code",
   "execution_count": 63,
   "metadata": {
    "execution": {
     "iopub.execute_input": "2022-03-04T12:43:26.313858Z",
     "iopub.status.busy": "2022-03-04T12:43:26.313185Z",
     "iopub.status.idle": "2022-03-04T12:43:26.343905Z",
     "shell.execute_reply": "2022-03-04T12:43:26.343199Z",
     "shell.execute_reply.started": "2022-03-04T11:45:34.424577Z"
    },
    "papermill": {
     "duration": 0.174873,
     "end_time": "2022-03-04T12:43:26.344052",
     "exception": false,
     "start_time": "2022-03-04T12:43:26.169179",
     "status": "completed"
    },
    "tags": []
   },
   "outputs": [
    {
     "data": {
      "text/html": [
       "<div>\n",
       "<style scoped>\n",
       "    .dataframe tbody tr th:only-of-type {\n",
       "        vertical-align: middle;\n",
       "    }\n",
       "\n",
       "    .dataframe tbody tr th {\n",
       "        vertical-align: top;\n",
       "    }\n",
       "\n",
       "    .dataframe thead th {\n",
       "        text-align: right;\n",
       "    }\n",
       "</style>\n",
       "<table border=\"1\" class=\"dataframe\">\n",
       "  <thead>\n",
       "    <tr style=\"text-align: right;\">\n",
       "      <th></th>\n",
       "      <th>question_id</th>\n",
       "      <th>bundle_id</th>\n",
       "      <th>correct_answer</th>\n",
       "      <th>part</th>\n",
       "      <th>tags</th>\n",
       "    </tr>\n",
       "  </thead>\n",
       "  <tbody>\n",
       "    <tr>\n",
       "      <th>0</th>\n",
       "      <td>0</td>\n",
       "      <td>0</td>\n",
       "      <td>0</td>\n",
       "      <td>1</td>\n",
       "      <td>51 131 162 38</td>\n",
       "    </tr>\n",
       "    <tr>\n",
       "      <th>1</th>\n",
       "      <td>1</td>\n",
       "      <td>1</td>\n",
       "      <td>1</td>\n",
       "      <td>1</td>\n",
       "      <td>131 36 81</td>\n",
       "    </tr>\n",
       "    <tr>\n",
       "      <th>2</th>\n",
       "      <td>2</td>\n",
       "      <td>2</td>\n",
       "      <td>0</td>\n",
       "      <td>1</td>\n",
       "      <td>131 101 162 92</td>\n",
       "    </tr>\n",
       "    <tr>\n",
       "      <th>3</th>\n",
       "      <td>3</td>\n",
       "      <td>3</td>\n",
       "      <td>0</td>\n",
       "      <td>1</td>\n",
       "      <td>131 149 162 29</td>\n",
       "    </tr>\n",
       "    <tr>\n",
       "      <th>4</th>\n",
       "      <td>4</td>\n",
       "      <td>4</td>\n",
       "      <td>3</td>\n",
       "      <td>1</td>\n",
       "      <td>131 5 162 38</td>\n",
       "    </tr>\n",
       "  </tbody>\n",
       "</table>\n",
       "</div>"
      ],
      "text/plain": [
       "   question_id  bundle_id  correct_answer  part            tags\n",
       "0            0          0               0     1   51 131 162 38\n",
       "1            1          1               1     1       131 36 81\n",
       "2            2          2               0     1  131 101 162 92\n",
       "3            3          3               0     1  131 149 162 29\n",
       "4            4          4               3     1    131 5 162 38"
      ]
     },
     "execution_count": 63,
     "metadata": {},
     "output_type": "execute_result"
    }
   ],
   "source": [
    "question=pd.read_csv('../input/riiid-test-answer-prediction/questions.csv')\n",
    "question.head()"
   ]
  },
  {
   "cell_type": "code",
   "execution_count": 64,
   "metadata": {
    "execution": {
     "iopub.execute_input": "2022-03-04T12:43:26.634925Z",
     "iopub.status.busy": "2022-03-04T12:43:26.632686Z",
     "iopub.status.idle": "2022-03-04T12:43:26.637922Z",
     "shell.execute_reply": "2022-03-04T12:43:26.638475Z",
     "shell.execute_reply.started": "2022-03-04T11:45:37.878821Z"
    },
    "papermill": {
     "duration": 0.153324,
     "end_time": "2022-03-04T12:43:26.638659",
     "exception": false,
     "start_time": "2022-03-04T12:43:26.485335",
     "status": "completed"
    },
    "tags": []
   },
   "outputs": [
    {
     "data": {
      "text/plain": [
       "(13523, 5)"
      ]
     },
     "execution_count": 64,
     "metadata": {},
     "output_type": "execute_result"
    }
   ],
   "source": [
    "question.shape"
   ]
  },
  {
   "cell_type": "code",
   "execution_count": 65,
   "metadata": {
    "execution": {
     "iopub.execute_input": "2022-03-04T12:43:26.923627Z",
     "iopub.status.busy": "2022-03-04T12:43:26.922975Z",
     "iopub.status.idle": "2022-03-04T12:43:27.115391Z",
     "shell.execute_reply": "2022-03-04T12:43:27.114738Z",
     "shell.execute_reply.started": "2022-03-04T11:45:40.285550Z"
    },
    "papermill": {
     "duration": 0.336969,
     "end_time": "2022-03-04T12:43:27.115535",
     "exception": false,
     "start_time": "2022-03-04T12:43:26.778566",
     "status": "completed"
    },
    "tags": []
   },
   "outputs": [
    {
     "data": {
      "image/png": "[encoded data removed]",
      "text/plain": [
       "<Figure size 720x360 with 1 Axes>"
      ]
     },
     "metadata": {
      "needs_background": "light"
     },
     "output_type": "display_data"
    }
   ],
   "source": [
    "plt.figure(figsize=(10,5))\n",
    "sns.countplot(x='part',data=question,order=question['part'].value_counts().index)\n",
    "plt.title('typs of parts in questions')\n",
    "plt.xticks(rotation=90)\n",
    "plt.show()  "
   ]
  },
  {
   "cell_type": "code",
   "execution_count": null,
   "metadata": {
    "papermill": {
     "duration": 0.08728,
     "end_time": "2022-03-04T12:40:40.092627",
     "exception": false,
     "start_time": "2022-03-04T12:40:40.005347",
     "status": "completed"
    },
    "tags": []
   },
   "outputs": [],
   "source": []
  },
  {
   "cell_type": "markdown",
   "metadata": {},
   "source": [
    "\n",
    "## Feature engineering:\n",
    "\n",
    "We can create features realted to difficulty level of content i.e no of users given correct answers/total no of users answered  and also same for users_id i.e no of questions he answeres/total attempted by him,these features gives more weight to model as it able understand the behavaiour of content(like how hard and easy it is) and user(how good his performance) which helps in predict whther x user able to give correct answeer for given x content\n"
   ]
  },
  {
   "cell_type": "code",
   "execution_count": null,
   "metadata": {},
   "outputs": [],
   "source": []
  }
 ],
 "metadata": {
  "kernelspec": {
   "display_name": "Python 3",
   "language": "python",
   "name": "python3"
  },
  "language_info": {
   "codemirror_mode": {
    "name": "ipython",
    "version": 3
   },
   "file_extension": ".py",
   "mimetype": "text/x-python",
   "name": "python",
   "nbconvert_exporter": "python",
   "pygments_lexer": "ipython3",
   "version": "3.6.5"
  },
  "papermill": {
   "default_parameters": {},
   "duration": 180.771686,
   "end_time": "2022-03-04T12:43:28.899012",
   "environment_variables": {},
   "exception": null,
   "input_path": "__notebook__.ipynb",
   "output_path": "__notebook__.ipynb",
   "parameters": {},
   "start_time": "2022-03-04T12:40:28.127326",
   "version": "2.3.3"
  }
 },
 "nbformat": 4,
 "nbformat_minor": 5
}
